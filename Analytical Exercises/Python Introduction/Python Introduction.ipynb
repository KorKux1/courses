{
  "nbformat": 4,
  "nbformat_minor": 0,
  "metadata": {
    "kernelspec": {
      "display_name": "Python 3",
      "language": "python",
      "name": "python3"
    },
    "language_info": {
      "codemirror_mode": {
        "name": "ipython",
        "version": 3
      },
      "file_extension": ".py",
      "mimetype": "text/x-python",
      "name": "python",
      "nbconvert_exporter": "python",
      "pygments_lexer": "ipython3",
      "version": "3.7.6"
    },
    "colab": {
      "name": "02-01-IntroAPython.ipynb",
      "provenance": [],
      "collapsed_sections": [
        "KOGqTPqfHPcJ",
        "D6wp1F2kHPeg",
        "O-x32fe-HPep",
        "QFw04ZPmHPfZ",
        "8gf1QM7nHPfz",
        "2XXDabjqHPgN"
      ]
    }
  },
  "cells": [
    {
      "cell_type": "markdown",
      "metadata": {
        "id": "T0ntEXQ-HPPa",
        "colab_type": "text"
      },
      "source": [
        "# Introducción a la Programación"
      ]
    },
    {
      "cell_type": "markdown",
      "metadata": {
        "id": "uqoppM-qHPPi",
        "colab_type": "text"
      },
      "source": [
        "## Variables y tipos de datos"
      ]
    },
    {
      "cell_type": "markdown",
      "metadata": {
        "id": "Iws6K81fHPPj",
        "colab_type": "text"
      },
      "source": [
        "### Cadenas de caracteres"
      ]
    },
    {
      "cell_type": "markdown",
      "metadata": {
        "id": "2kO5zE36HPPk",
        "colab_type": "text"
      },
      "source": [
        "Las cadenas de caracteres en Python se especifican utilizando un par de comillas sencillas o un par de comillas dobles, pero no combinarlas entre ellas."
      ]
    },
    {
      "cell_type": "markdown",
      "metadata": {
        "id": "4-f_0zC9HPPl",
        "colab_type": "text"
      },
      "source": [
        "Podemos utilizar el método print para imprimir en pantalla un valor (numérico, cadena de caracteres, o concatenación que combine varios tipos de valores)."
      ]
    },
    {
      "cell_type": "code",
      "metadata": {
        "id": "-yhTJYGxHPPm",
        "colab_type": "code",
        "colab": {
          "base_uri": "https://localhost:8080/",
          "height": 52
        },
        "outputId": "68b12d1e-8af4-4627-e451-4c8162006128"
      },
      "source": [
        "print(\"Hola Mundo 1\")\n",
        "print('Hola Mundo 2')"
      ],
      "execution_count": 1,
      "outputs": [
        {
          "output_type": "stream",
          "text": [
            "Hola Mundo 1\n",
            "Hola Mundo 2\n"
          ],
          "name": "stdout"
        }
      ]
    },
    {
      "cell_type": "markdown",
      "metadata": {
        "id": "4JNqf7QsHPPx",
        "colab_type": "text"
      },
      "source": [
        "Las variables son espacios de memoria donde se almacenan valores. Son referenciados por nombres (identificadores).\n",
        "\n",
        "Podemos asignar una cadena de caracteres como el valor de una variable que podrá ser utilizada posteriormente utilizando \"=\". \n",
        "El tipo de las variables no se especifica directamente, se infiere dependiendo del valor que se va a asignar.\n",
        "Las cadenas de caracteres se pueden concatenar usando el operador \"+\".\n"
      ]
    },
    {
      "cell_type": "code",
      "metadata": {
        "id": "iZmLVHsvHPPz",
        "colab_type": "code",
        "colab": {
          "base_uri": "https://localhost:8080/",
          "height": 52
        },
        "outputId": "d8d0cec8-6bee-460a-854e-64d5944f642e"
      },
      "source": [
        "texto1 = \"este texto\"\n",
        "texto2 = \"otro texto\"\n",
        "print(texto1 + \", \" + texto2)\n",
        "texto3 = texto1 + \", \" + texto2\n",
        "print(\"Lo vuelvo a imprimir: \" + texto3)"
      ],
      "execution_count": 2,
      "outputs": [
        {
          "output_type": "stream",
          "text": [
            "este texto, otro texto\n",
            "Lo vuelvo a imprimir: este texto, otro texto\n"
          ],
          "name": "stdout"
        }
      ]
    },
    {
      "cell_type": "markdown",
      "metadata": {
        "id": "tPZ56QzqHPP6",
        "colab_type": "text"
      },
      "source": [
        "Podemos incluir caracteres especiales utilizando un backslash \"\\\"."
      ]
    },
    {
      "cell_type": "code",
      "metadata": {
        "id": "aEldww8HHPP7",
        "colab_type": "code",
        "colab": {
          "base_uri": "https://localhost:8080/",
          "height": 35
        },
        "outputId": "d62673d4-00e4-4c46-8987-2ae4aa119e1d"
      },
      "source": [
        "print(\"texto con comillas \\\"comillas\\\"\")"
      ],
      "execution_count": 3,
      "outputs": [
        {
          "output_type": "stream",
          "text": [
            "texto con comillas \"comillas\"\n"
          ],
          "name": "stdout"
        }
      ]
    },
    {
      "cell_type": "code",
      "metadata": {
        "id": "T1lRA_hbHPQG",
        "colab_type": "code",
        "colab": {
          "base_uri": "https://localhost:8080/",
          "height": 35
        },
        "outputId": "4b756b85-476a-4273-828c-e69a859b65be"
      },
      "source": [
        "print(\"texto en \\\n",
        "varias \\\n",
        "lineas\")"
      ],
      "execution_count": 4,
      "outputs": [
        {
          "output_type": "stream",
          "text": [
            "texto en varias lineas\n"
          ],
          "name": "stdout"
        }
      ]
    },
    {
      "cell_type": "markdown",
      "metadata": {
        "id": "SBeFKsZ-HPQT",
        "colab_type": "text"
      },
      "source": [
        "Podemos repetir varias veces una cadena de caracteres con el caracter de asterisco."
      ]
    },
    {
      "cell_type": "code",
      "metadata": {
        "id": "P6sJDaafHPQV",
        "colab_type": "code",
        "colab": {
          "base_uri": "https://localhost:8080/",
          "height": 35
        },
        "outputId": "57ee95d3-fac8-4bf8-f1ad-e35557b8763f"
      },
      "source": [
        "\"si\"+(\"ri\"*2)"
      ],
      "execution_count": 5,
      "outputs": [
        {
          "output_type": "execute_result",
          "data": {
            "application/vnd.google.colaboratory.intrinsic+json": {
              "type": "string"
            },
            "text/plain": [
              "'siriri'"
            ]
          },
          "metadata": {
            "tags": []
          },
          "execution_count": 5
        }
      ]
    },
    {
      "cell_type": "markdown",
      "metadata": {
        "id": "9FryTRxuHPQd",
        "colab_type": "text"
      },
      "source": [
        "### Números (int, float)\n",
        "\n",
        "Hay dos tipos de datos numéricos en Python: **int** (para números enteros) y **float** (para números con decimales, utilizando el punto y no la coma como separador).\n",
        "El tipo de un número depende de cómo se especifica: si se escribe con o sin punto se determina si se trata de un **int** o de un **float**.\n"
      ]
    },
    {
      "cell_type": "code",
      "metadata": {
        "id": "gUZ6RToPHPQl",
        "colab_type": "code",
        "colab": {
          "base_uri": "https://localhost:8080/",
          "height": 69
        },
        "outputId": "e57676c1-479b-47d3-e188-d08c5f0cb8a4"
      },
      "source": [
        "print (14)\n",
        "print (14.0)\n",
        "print(111111111111+1)"
      ],
      "execution_count": 6,
      "outputs": [
        {
          "output_type": "stream",
          "text": [
            "14\n",
            "14.0\n",
            "111111111112\n"
          ],
          "name": "stdout"
        }
      ]
    },
    {
      "cell_type": "markdown",
      "metadata": {
        "id": "7qlEbDAUHPQt",
        "colab_type": "text"
      },
      "source": [
        "Podemos asignar un valor a una variable, para poder utilizarla posteriormente. El tipo de las variables no se especifica directamente, se infiere dependiendo del valor que se va a asignar.\n",
        "La función **type()** permite preguntar el tipo específico de un valor o de una variable."
      ]
    },
    {
      "cell_type": "code",
      "metadata": {
        "id": "HmDLIRPgHPQ0",
        "colab_type": "code",
        "colab": {
          "base_uri": "https://localhost:8080/",
          "height": 121
        },
        "outputId": "258a5a3b-6af4-4155-8d67-d9f5fb0dc216"
      },
      "source": [
        "print(type(14))\n",
        "print(type(14.0))\n",
        "print(type(\"una cadena\"))\n",
        "i=89\n",
        "j=89.0\n",
        "cad=\"una cadena\"\n",
        "print(type(i))\n",
        "print(type(j))\n",
        "print(type(cad))"
      ],
      "execution_count": 7,
      "outputs": [
        {
          "output_type": "stream",
          "text": [
            "<class 'int'>\n",
            "<class 'float'>\n",
            "<class 'str'>\n",
            "<class 'int'>\n",
            "<class 'float'>\n",
            "<class 'str'>\n"
          ],
          "name": "stdout"
        }
      ]
    },
    {
      "cell_type": "markdown",
      "metadata": {
        "id": "oo91oWuUHPRE",
        "colab_type": "text"
      },
      "source": [
        "Los números tienen los límites siguientes:"
      ]
    },
    {
      "cell_type": "code",
      "metadata": {
        "id": "E92ZrGuzHPRF",
        "colab_type": "code",
        "colab": {
          "base_uri": "https://localhost:8080/",
          "height": 87
        },
        "outputId": "1c7e9b9b-878d-463a-d2bb-d314bd47240b"
      },
      "source": [
        "#Límite superior\n",
        "print (1.79e308)\n",
        "print (1.8e308)\n",
        "\n",
        "#Límite inferior\n",
        "print (-1.79e308)\n",
        "print (-1.8e308)"
      ],
      "execution_count": 8,
      "outputs": [
        {
          "output_type": "stream",
          "text": [
            "1.79e+308\n",
            "inf\n",
            "-1.79e+308\n",
            "-inf\n"
          ],
          "name": "stdout"
        }
      ]
    },
    {
      "cell_type": "code",
      "metadata": {
        "id": "s4SdEOtWHPRL",
        "colab_type": "code",
        "colab": {
          "base_uri": "https://localhost:8080/",
          "height": 52
        },
        "outputId": "437fba13-97f5-4a69-adb6-c02cced3f8d3"
      },
      "source": [
        "#Límites cercanos a cero\n",
        "print (5e-324)\n",
        "print (2e-324)"
      ],
      "execution_count": 9,
      "outputs": [
        {
          "output_type": "stream",
          "text": [
            "5e-324\n",
            "0.0\n"
          ],
          "name": "stdout"
        }
      ]
    },
    {
      "cell_type": "code",
      "metadata": {
        "id": "eaxHvhPoHPRP",
        "colab_type": "code",
        "colab": {
          "base_uri": "https://localhost:8080/",
          "height": 35
        },
        "outputId": "bba0a695-c282-4b86-c0b7-c68109f5756b"
      },
      "source": [
        "# Límite en la precisión de los números de punto flotante\n",
        "print (1.2345678901234567890123456789)"
      ],
      "execution_count": 10,
      "outputs": [
        {
          "output_type": "stream",
          "text": [
            "1.2345678901234567\n"
          ],
          "name": "stdout"
        }
      ]
    },
    {
      "cell_type": "code",
      "metadata": {
        "id": "Jv9Gr756HPRm",
        "colab_type": "code",
        "colab": {
          "base_uri": "https://localhost:8080/",
          "height": 35
        },
        "outputId": "5d53f97a-242a-4166-d397-311af13c13f8"
      },
      "source": [
        "print (12345678901234567890123456789.0)"
      ],
      "execution_count": 11,
      "outputs": [
        {
          "output_type": "stream",
          "text": [
            "1.2345678901234568e+28\n"
          ],
          "name": "stdout"
        }
      ]
    },
    {
      "cell_type": "markdown",
      "metadata": {
        "id": "3-kNPH2dHPRq",
        "colab_type": "text"
      },
      "source": [
        "Se pueden realizar operaciones de suma, resta, multiplicación, etc., conjuntamente con la asignación a una variable en una sola operación."
      ]
    },
    {
      "cell_type": "code",
      "metadata": {
        "id": "SkXxec9sHPRr",
        "colab_type": "code",
        "colab": {
          "base_uri": "https://localhost:8080/",
          "height": 121
        },
        "outputId": "5a57907b-1f4e-44ed-cfec-ac41c3d3d5d4"
      },
      "source": [
        "a = 5\n",
        "print (a)\n",
        "a = a + 1\n",
        "print (a)\n",
        "a += 1\n",
        "print (a)\n",
        "a += 5\n",
        "print (a)\n",
        "a *= 3\n",
        "print (a)\n",
        "a //= 4 # División Entera\n",
        "print (a)"
      ],
      "execution_count": 12,
      "outputs": [
        {
          "output_type": "stream",
          "text": [
            "5\n",
            "6\n",
            "7\n",
            "12\n",
            "36\n",
            "9\n"
          ],
          "name": "stdout"
        }
      ]
    },
    {
      "cell_type": "code",
      "metadata": {
        "id": "QpmFitFZP_xs",
        "colab_type": "code",
        "colab": {
          "base_uri": "https://localhost:8080/",
          "height": 35
        },
        "outputId": "36f71c44-ef28-48ea-fa42-080e16b1c229"
      },
      "source": [
        "a /= 3\n",
        "a"
      ],
      "execution_count": 13,
      "outputs": [
        {
          "output_type": "execute_result",
          "data": {
            "text/plain": [
              "3.0"
            ]
          },
          "metadata": {
            "tags": []
          },
          "execution_count": 13
        }
      ]
    },
    {
      "cell_type": "markdown",
      "metadata": {
        "id": "-QGZ06E0HPRv",
        "colab_type": "text"
      },
      "source": [
        "### Combinación y formateo"
      ]
    },
    {
      "cell_type": "markdown",
      "metadata": {
        "id": "AQ_uHJSrHPRw",
        "colab_type": "text"
      },
      "source": [
        "Podemos transformar valores numéricos a cadenas de caracteres usando la función **str()**.\n",
        "Inversamente, podemos transformar cadenas de caracteres a números utilizando las funciones **int()** y **float()**."
      ]
    },
    {
      "cell_type": "code",
      "metadata": {
        "id": "ac3126QMHPR4",
        "colab_type": "code",
        "colab": {
          "base_uri": "https://localhost:8080/",
          "height": 35
        },
        "outputId": "aeb532c5-6080-4fab-b22f-0fd6a44d5156"
      },
      "source": [
        "j=89.92836\n",
        "print(\"El valor de j es: \"+str(j))"
      ],
      "execution_count": 14,
      "outputs": [
        {
          "output_type": "stream",
          "text": [
            "El valor de j es: 89.92836\n"
          ],
          "name": "stdout"
        }
      ]
    },
    {
      "cell_type": "code",
      "metadata": {
        "id": "NRw0IXlLHPR-",
        "colab_type": "code",
        "colab": {
          "base_uri": "https://localhost:8080/",
          "height": 52
        },
        "outputId": "12a9d885-bcbc-483c-cb37-b94772c3fe8e"
      },
      "source": [
        "print(11 + float(j))\n",
        "print(11 + int(j))"
      ],
      "execution_count": 15,
      "outputs": [
        {
          "output_type": "stream",
          "text": [
            "100.92836\n",
            "100\n"
          ],
          "name": "stdout"
        }
      ]
    },
    {
      "cell_type": "markdown",
      "metadata": {
        "id": "OkFf3JSzHPSX",
        "colab_type": "text"
      },
      "source": [
        "Podemos formatear las cadenas utilizando la función **format()**, que remplazará en la cadena de caracteres los valores que se indican entre \"{}\"."
      ]
    },
    {
      "cell_type": "code",
      "metadata": {
        "id": "RXL2SBnhHPSY",
        "colab_type": "code",
        "colab": {
          "base_uri": "https://localhost:8080/",
          "height": 69
        },
        "outputId": "e69769e0-8176-4b81-b71c-4fd1cbfda996"
      },
      "source": [
        "i=12345678901234\n",
        "j=89.928362844782419348\n",
        "print(\"Imprimo un texto directamente: {}\".format(texto1))\n",
        "print(\"El valor de i es: {}\".format(i))\n",
        "print(\"El valor de j es: {}\".format(j))"
      ],
      "execution_count": 16,
      "outputs": [
        {
          "output_type": "stream",
          "text": [
            "Imprimo un texto directamente: este texto\n",
            "El valor de i es: 12345678901234\n",
            "El valor de j es: 89.92836284478241\n"
          ],
          "name": "stdout"
        }
      ]
    },
    {
      "cell_type": "markdown",
      "metadata": {
        "id": "haHRt6P7HPSe",
        "colab_type": "text"
      },
      "source": [
        "Se puede cambiar el formato de los valores´numéricos utilizando \":\", seguido del número de caracteres a utilizar en la parte decimal después de un caracter \".\",  y de un indicador opcional del tipo de dato que se quiere formatear:\n",
        "- \"d\" para enteros decimales\n",
        "- \"f\" para punto flotante\n",
        "- \"e\" para expresiones con exponentes base 10"
      ]
    },
    {
      "cell_type": "code",
      "metadata": {
        "id": "nX43ahe5HPSf",
        "colab_type": "code",
        "colab": {
          "base_uri": "https://localhost:8080/",
          "height": 208
        },
        "outputId": "36f8e4de-8e53-4370-b6b9-59676aa698c4"
      },
      "source": [
        "print(\"1. El valor de j con dos decimales es: {:d}\".format(i))\n",
        "print(\"2. El valor de j con dos decimales es: {:.2f}\".format(j))\n",
        "print(\"3. El valor de j con dos decimales es: {:.4f}\".format(j))\n",
        "print(\"4. El valor de j con dos decimales es: {:e}\".format(j))\n",
        "print(\"5. El valor de j con dos decimales es: {:.1e}\".format(j))\n",
        "print(\"6. El valor de j con dos decimales es: {:.2e}\".format(j))\n",
        "print(\"7. El valor de j con dos decimales es: {:.4e}\".format(j))\n",
        "print(\"8. El valor de j con dos decimales es: {:.1f}\".format(j))\n",
        "print(\"9. El valor de j con dos decimales es: {:.2f}\".format(j))\n",
        "print(\"10. El valor de j con dos decimales es: {:.4f}\".format(j))\n",
        "print(\"11. El valor de j con dos decimales es: {:.2}\".format(j))"
      ],
      "execution_count": 17,
      "outputs": [
        {
          "output_type": "stream",
          "text": [
            "1. El valor de j con dos decimales es: 12345678901234\n",
            "2. El valor de j con dos decimales es: 89.93\n",
            "3. El valor de j con dos decimales es: 89.9284\n",
            "4. El valor de j con dos decimales es: 8.992836e+01\n",
            "5. El valor de j con dos decimales es: 9.0e+01\n",
            "6. El valor de j con dos decimales es: 8.99e+01\n",
            "7. El valor de j con dos decimales es: 8.9928e+01\n",
            "8. El valor de j con dos decimales es: 89.9\n",
            "9. El valor de j con dos decimales es: 89.93\n",
            "10. El valor de j con dos decimales es: 89.9284\n",
            "11. El valor de j con dos decimales es: 9e+01\n"
          ],
          "name": "stdout"
        }
      ]
    },
    {
      "cell_type": "code",
      "metadata": {
        "id": "m6e7_kE2Qh2o",
        "colab_type": "code",
        "colab": {
          "base_uri": "https://localhost:8080/",
          "height": 35
        },
        "outputId": "356f13d5-4de5-4ca1-d2e3-21583a695346"
      },
      "source": [
        "j"
      ],
      "execution_count": 18,
      "outputs": [
        {
          "output_type": "execute_result",
          "data": {
            "text/plain": [
              "89.92836284478241"
            ]
          },
          "metadata": {
            "tags": []
          },
          "execution_count": 18
        }
      ]
    },
    {
      "cell_type": "markdown",
      "metadata": {
        "id": "bRasz2FaHPSq",
        "colab_type": "text"
      },
      "source": [
        "En el caso de impresión literal del valor, se puede obviar el \":\"."
      ]
    },
    {
      "cell_type": "code",
      "metadata": {
        "id": "pK0G5106HPSr",
        "colab_type": "code",
        "colab": {
          "base_uri": "https://localhost:8080/",
          "height": 69
        },
        "outputId": "cdf6d65e-24f2-48d5-810f-70b6483bcdf4"
      },
      "source": [
        "print(\"El valor de i es: {:}\".format(i))\n",
        "print(\"El valor de j es: {:}\".format(j))\n",
        "print(\"Imprimo un texto directamente: {:}\".format(texto1))"
      ],
      "execution_count": 19,
      "outputs": [
        {
          "output_type": "stream",
          "text": [
            "El valor de i es: 12345678901234\n",
            "El valor de j es: 89.92836284478241\n",
            "Imprimo un texto directamente: este texto\n"
          ],
          "name": "stdout"
        }
      ]
    },
    {
      "cell_type": "code",
      "metadata": {
        "id": "b64B7ZKaIuPi",
        "colab_type": "code",
        "colab": {
          "base_uri": "https://localhost:8080/",
          "height": 35
        },
        "outputId": "00fe9102-6f84-414a-ad8e-d6599be17576"
      },
      "source": [
        "print(\"El valor de i es: {} {}\".format(i, j))"
      ],
      "execution_count": 20,
      "outputs": [
        {
          "output_type": "stream",
          "text": [
            "El valor de i es: 12345678901234 89.92836284478241\n"
          ],
          "name": "stdout"
        }
      ]
    },
    {
      "cell_type": "markdown",
      "metadata": {
        "id": "4H0ZKOFTHPSw",
        "colab_type": "text"
      },
      "source": [
        "## Operaciones Aritméticas Básicas\n",
        "Multiplicación, División, Suma, Resta, Potenciación"
      ]
    },
    {
      "cell_type": "code",
      "metadata": {
        "id": "IzOVYvmcHPSx",
        "colab_type": "code",
        "colab": {
          "base_uri": "https://localhost:8080/",
          "height": 69
        },
        "outputId": "f5918c55-c752-49ae-bd18-a77dc40f9f9e"
      },
      "source": [
        "print (2 + 3)\n",
        "print (45 - 23)\n",
        "print (-67 + 56 - 12)"
      ],
      "execution_count": 21,
      "outputs": [
        {
          "output_type": "stream",
          "text": [
            "5\n",
            "22\n",
            "-23\n"
          ],
          "name": "stdout"
        }
      ]
    },
    {
      "cell_type": "markdown",
      "metadata": {
        "id": "sBnPVR9hHPS6",
        "colab_type": "text"
      },
      "source": [
        "El símboolo de multiplicación es el asterisco *"
      ]
    },
    {
      "cell_type": "code",
      "metadata": {
        "id": "53HncE8EHPS7",
        "colab_type": "code",
        "colab": {
          "base_uri": "https://localhost:8080/",
          "height": 35
        },
        "outputId": "abc5619d-e9d1-4aeb-dd59-a0f2e2f99ff4"
      },
      "source": [
        "4 * 6"
      ],
      "execution_count": 22,
      "outputs": [
        {
          "output_type": "execute_result",
          "data": {
            "text/plain": [
              "24"
            ]
          },
          "metadata": {
            "tags": []
          },
          "execution_count": 22
        }
      ]
    },
    {
      "cell_type": "markdown",
      "metadata": {
        "id": "5oQhD08fHPS-",
        "colab_type": "text"
      },
      "source": [
        "El símbolo de división es el slash"
      ]
    },
    {
      "cell_type": "code",
      "metadata": {
        "id": "YDaMOynjHPS-",
        "colab_type": "code",
        "colab": {
          "base_uri": "https://localhost:8080/",
          "height": 52
        },
        "outputId": "5de5b2b6-98dd-4f5e-9968-571ff14b0b03"
      },
      "source": [
        "print (7 / 3)\n",
        "print (14 / 2)"
      ],
      "execution_count": 23,
      "outputs": [
        {
          "output_type": "stream",
          "text": [
            "2.3333333333333335\n",
            "7.0\n"
          ],
          "name": "stdout"
        }
      ]
    },
    {
      "cell_type": "markdown",
      "metadata": {
        "id": "5eKpP4twHPTB",
        "colab_type": "text"
      },
      "source": [
        "El cociente entero de una división es con doble slash"
      ]
    },
    {
      "cell_type": "code",
      "metadata": {
        "id": "1pvKHQN7HPTC",
        "colab_type": "code",
        "colab": {
          "base_uri": "https://localhost:8080/",
          "height": 35
        },
        "outputId": "876f73e8-65b6-4661-c1b6-0fe63b89fe1a"
      },
      "source": [
        "print (10 // 4)"
      ],
      "execution_count": 24,
      "outputs": [
        {
          "output_type": "stream",
          "text": [
            "2\n"
          ],
          "name": "stdout"
        }
      ]
    },
    {
      "cell_type": "markdown",
      "metadata": {
        "id": "kucaTSrxHPTO",
        "colab_type": "text"
      },
      "source": [
        "El símbolo para la obtener el residuo de una división (también llamado módulo) es %"
      ]
    },
    {
      "cell_type": "code",
      "metadata": {
        "id": "viXOh2hnHPTP",
        "colab_type": "code",
        "colab": {
          "base_uri": "https://localhost:8080/",
          "height": 35
        },
        "outputId": "09b4be3d-b0cd-4a7e-bdab-c833d35842e1"
      },
      "source": [
        "print (11 % 4)"
      ],
      "execution_count": 25,
      "outputs": [
        {
          "output_type": "stream",
          "text": [
            "3\n"
          ],
          "name": "stdout"
        }
      ]
    },
    {
      "cell_type": "code",
      "metadata": {
        "id": "khsS21BpHPTa",
        "colab_type": "code",
        "colab": {
          "base_uri": "https://localhost:8080/",
          "height": 35
        },
        "outputId": "bc1c7a22-29a5-4ef1-d384-fa2b030c212e"
      },
      "source": [
        "print (11/4)"
      ],
      "execution_count": 26,
      "outputs": [
        {
          "output_type": "stream",
          "text": [
            "2.75\n"
          ],
          "name": "stdout"
        }
      ]
    },
    {
      "cell_type": "code",
      "metadata": {
        "id": "CQo4pXFAHPTl",
        "colab_type": "code",
        "colab": {
          "base_uri": "https://localhost:8080/",
          "height": 35
        },
        "outputId": "0c03b1e2-e2d5-4e73-e450-ce3dfb808a46"
      },
      "source": [
        "print (11/4 - 11//4)"
      ],
      "execution_count": 27,
      "outputs": [
        {
          "output_type": "stream",
          "text": [
            "0.75\n"
          ],
          "name": "stdout"
        }
      ]
    },
    {
      "cell_type": "markdown",
      "metadata": {
        "id": "nASJWXs2HPT0",
        "colab_type": "text"
      },
      "source": [
        "La elevación a una potencia se obtiene con el doble asterisco"
      ]
    },
    {
      "cell_type": "code",
      "metadata": {
        "id": "1zHodniVHPT2",
        "colab_type": "code",
        "colab": {
          "base_uri": "https://localhost:8080/",
          "height": 52
        },
        "outputId": "5ce0662b-8408-47ff-dcde-e8ff109818f4"
      },
      "source": [
        "print (2 ** 3)\n",
        "print (5 ** 4)"
      ],
      "execution_count": 28,
      "outputs": [
        {
          "output_type": "stream",
          "text": [
            "8\n",
            "625\n"
          ],
          "name": "stdout"
        }
      ]
    },
    {
      "cell_type": "markdown",
      "metadata": {
        "id": "EHtRH2ksHPUB",
        "colab_type": "text"
      },
      "source": [
        "### Booleanos"
      ]
    },
    {
      "cell_type": "markdown",
      "metadata": {
        "id": "pdkp3VxjHPUC",
        "colab_type": "text"
      },
      "source": [
        "Las variables booleanas son de tipo bool, y adminten dos valores \"True\" y \"False\" (case sensitive)."
      ]
    },
    {
      "cell_type": "code",
      "metadata": {
        "id": "HQS2csjVHPUC",
        "colab_type": "code",
        "colab": {
          "base_uri": "https://localhost:8080/",
          "height": 87
        },
        "outputId": "53fc8366-5192-43e3-e2f1-cfc89702c804"
      },
      "source": [
        "print(type (False))\n",
        "print(type (True))\n",
        "f = False\n",
        "t = True\n",
        "print(f)\n",
        "print(t)"
      ],
      "execution_count": 29,
      "outputs": [
        {
          "output_type": "stream",
          "text": [
            "<class 'bool'>\n",
            "<class 'bool'>\n",
            "False\n",
            "True\n"
          ],
          "name": "stdout"
        }
      ]
    },
    {
      "cell_type": "markdown",
      "metadata": {
        "id": "nYwzBFxLHPUO",
        "colab_type": "text"
      },
      "source": [
        "Para asignar un valor a partir de una comparación condicional, se utilizan los operadores \"==\" para evaluar la igualdad y \"!=\" para evaluar la inigualdad."
      ]
    },
    {
      "cell_type": "code",
      "metadata": {
        "id": "0-mOTsnAHPUP",
        "colab_type": "code",
        "colab": {
          "base_uri": "https://localhost:8080/",
          "height": 52
        },
        "outputId": "d42349ec-9667-4ae4-d35d-bdc1cfc87457"
      },
      "source": [
        "t = \"True\" == \"True\"\n",
        "f = \"False\" != \"False\"\n",
        "print(t)\n",
        "print(f)"
      ],
      "execution_count": 30,
      "outputs": [
        {
          "output_type": "stream",
          "text": [
            "True\n",
            "False\n"
          ],
          "name": "stdout"
        }
      ]
    },
    {
      "cell_type": "markdown",
      "metadata": {
        "id": "bsg7V4u4HPUV",
        "colab_type": "text"
      },
      "source": [
        "Se pueden realizar operaciones booleanas de NOT con \"not\", OR con \"or\" y de AND con \"and\"."
      ]
    },
    {
      "cell_type": "code",
      "metadata": {
        "id": "lTRiIUgzHPUV",
        "colab_type": "code",
        "colab": {
          "base_uri": "https://localhost:8080/",
          "height": 52
        },
        "outputId": "57e277a2-9350-4e92-d6ff-0c886fb3f17d"
      },
      "source": [
        "caminar = True\n",
        "comer = True\n",
        "print(caminar or comer)\n",
        "print(not (caminar and comer))"
      ],
      "execution_count": 31,
      "outputs": [
        {
          "output_type": "stream",
          "text": [
            "True\n",
            "False\n"
          ],
          "name": "stdout"
        }
      ]
    },
    {
      "cell_type": "markdown",
      "metadata": {
        "id": "l7tcfl6VHPUj",
        "colab_type": "text"
      },
      "source": [
        "Se pueden comparar valores numéricos con los operadores <, >m <=, >="
      ]
    },
    {
      "cell_type": "code",
      "metadata": {
        "id": "l_BRD4IdHPUk",
        "colab_type": "code",
        "colab": {
          "base_uri": "https://localhost:8080/",
          "height": 35
        },
        "outputId": "a35fe760-b3d1-4e8f-905f-bbaf8b1b4283"
      },
      "source": [
        "print (5==5.0 and 4>1)"
      ],
      "execution_count": 32,
      "outputs": [
        {
          "output_type": "stream",
          "text": [
            "True\n"
          ],
          "name": "stdout"
        }
      ]
    },
    {
      "cell_type": "code",
      "metadata": {
        "id": "CsWkk0S6HPU3",
        "colab_type": "code",
        "colab": {
          "base_uri": "https://localhost:8080/",
          "height": 69
        },
        "outputId": "a1d3678b-0d7c-4905-ffd7-618a53e1609a"
      },
      "source": [
        "a = 1\n",
        "b = 2\n",
        "c = 3\n",
        "print (a>b or not(b<c))\n",
        "\n",
        "print (c>b and (a+b<c or b+c>a))\n",
        "print ((a*2>=b or c//2<b) and b*c<a**c)"
      ],
      "execution_count": 33,
      "outputs": [
        {
          "output_type": "stream",
          "text": [
            "False\n",
            "True\n",
            "False\n"
          ],
          "name": "stdout"
        }
      ]
    },
    {
      "cell_type": "markdown",
      "metadata": {
        "id": "GhByEj2BHPVR",
        "colab_type": "text"
      },
      "source": [
        "## Otras funciones útiles"
      ]
    },
    {
      "cell_type": "code",
      "metadata": {
        "id": "pWqU4uW0HPVS",
        "colab_type": "code",
        "colab": {
          "base_uri": "https://localhost:8080/",
          "height": 52
        },
        "outputId": "0d2847e6-5462-4ca4-f3d1-c358a5f7fff5"
      },
      "source": [
        "d = abs(-4)\n",
        "print (d)\n",
        "g = abs(-1.78)\n",
        "print (g)"
      ],
      "execution_count": 34,
      "outputs": [
        {
          "output_type": "stream",
          "text": [
            "4\n",
            "1.78\n"
          ],
          "name": "stdout"
        }
      ]
    },
    {
      "cell_type": "code",
      "metadata": {
        "id": "vhfdrIakHPVn",
        "colab_type": "code",
        "colab": {
          "base_uri": "https://localhost:8080/",
          "height": 35
        },
        "outputId": "c2b762ab-2829-47ea-e411-ee297ed9edf0"
      },
      "source": [
        "e = max (3, 2, 7, 1)\n",
        "e"
      ],
      "execution_count": 35,
      "outputs": [
        {
          "output_type": "execute_result",
          "data": {
            "text/plain": [
              "7"
            ]
          },
          "metadata": {
            "tags": []
          },
          "execution_count": 35
        }
      ]
    },
    {
      "cell_type": "code",
      "metadata": {
        "id": "njx8KfYuHPWL",
        "colab_type": "code",
        "colab": {
          "base_uri": "https://localhost:8080/",
          "height": 87
        },
        "outputId": "effdde9d-10e1-4c4b-9aee-6d6aaa6d1b69"
      },
      "source": [
        "print (round(6.4))\n",
        "print (round(8.5))\n",
        "print (round(2.51))\n",
        "\n",
        "cp = complex(9,2)\n",
        "print (cp)"
      ],
      "execution_count": 36,
      "outputs": [
        {
          "output_type": "stream",
          "text": [
            "6\n",
            "8\n",
            "3\n",
            "(9+2j)\n"
          ],
          "name": "stdout"
        }
      ]
    },
    {
      "cell_type": "code",
      "metadata": {
        "id": "b6zNQLFPSGQn",
        "colab_type": "code",
        "colab": {
          "base_uri": "https://localhost:8080/",
          "height": 35
        },
        "outputId": "4f6689d6-3727-4621-ad69-6b3d84734feb"
      },
      "source": [
        "ord(\"B\")"
      ],
      "execution_count": 37,
      "outputs": [
        {
          "output_type": "execute_result",
          "data": {
            "text/plain": [
              "66"
            ]
          },
          "metadata": {
            "tags": []
          },
          "execution_count": 37
        }
      ]
    },
    {
      "cell_type": "code",
      "metadata": {
        "id": "lPejSd6-HPWb",
        "colab_type": "code",
        "colab": {
          "base_uri": "https://localhost:8080/",
          "height": 35
        },
        "outputId": "3b85c76f-b9a6-42b4-ebc7-61a189597acf"
      },
      "source": [
        "print (ord(\"A\"))"
      ],
      "execution_count": 38,
      "outputs": [
        {
          "output_type": "stream",
          "text": [
            "65\n"
          ],
          "name": "stdout"
        }
      ]
    },
    {
      "cell_type": "code",
      "metadata": {
        "id": "gKBmAcmeHPW0",
        "colab_type": "code",
        "colab": {
          "base_uri": "https://localhost:8080/",
          "height": 69
        },
        "outputId": "807d80fc-353a-4852-ab19-9f90e8c604b0"
      },
      "source": [
        "print(type (True))\n",
        "t = bool(\"1\")\n",
        "f = bool(\"0\")\n",
        "print(t)\n",
        "print(f)"
      ],
      "execution_count": 39,
      "outputs": [
        {
          "output_type": "stream",
          "text": [
            "<class 'bool'>\n",
            "True\n",
            "True\n"
          ],
          "name": "stdout"
        }
      ]
    },
    {
      "cell_type": "code",
      "metadata": {
        "id": "4erp0Xb-HPXF",
        "colab_type": "code",
        "colab": {
          "base_uri": "https://localhost:8080/",
          "height": 69
        },
        "outputId": "1b81b8f1-3023-4afe-b22d-9eb89a90cc91"
      },
      "source": [
        "print (bool (\"\"))\n",
        "print (False)\n",
        "bool (0)"
      ],
      "execution_count": 40,
      "outputs": [
        {
          "output_type": "stream",
          "text": [
            "False\n",
            "False\n"
          ],
          "name": "stdout"
        },
        {
          "output_type": "execute_result",
          "data": {
            "text/plain": [
              "False"
            ]
          },
          "metadata": {
            "tags": []
          },
          "execution_count": 40
        }
      ]
    },
    {
      "cell_type": "code",
      "metadata": {
        "id": "nrrcdzazSSBL",
        "colab_type": "code",
        "colab": {
          "base_uri": "https://localhost:8080/",
          "height": 35
        },
        "outputId": "089a150b-b78a-43fd-83f4-75231450ba60"
      },
      "source": [
        "if 1:\n",
        "  print(\"True\")"
      ],
      "execution_count": 41,
      "outputs": [
        {
          "output_type": "stream",
          "text": [
            "True\n"
          ],
          "name": "stdout"
        }
      ]
    },
    {
      "cell_type": "code",
      "metadata": {
        "id": "uAaAN4e5SUnW",
        "colab_type": "code",
        "colab": {
          "base_uri": "https://localhost:8080/",
          "height": 35
        },
        "outputId": "b67df6f0-1c0c-4d18-f8a0-fcf15fdda99a"
      },
      "source": [
        "bool(1)"
      ],
      "execution_count": 42,
      "outputs": [
        {
          "output_type": "execute_result",
          "data": {
            "text/plain": [
              "True"
            ]
          },
          "metadata": {
            "tags": []
          },
          "execution_count": 42
        }
      ]
    },
    {
      "cell_type": "code",
      "metadata": {
        "id": "0XO250spSW8F",
        "colab_type": "code",
        "colab": {
          "base_uri": "https://localhost:8080/",
          "height": 35
        },
        "outputId": "346903cf-b812-4187-b6c6-f8cfd6e99c5e"
      },
      "source": [
        "if 0:\n",
        "  print(True)\n",
        "else:\n",
        "  print(False)"
      ],
      "execution_count": 43,
      "outputs": [
        {
          "output_type": "stream",
          "text": [
            "False\n"
          ],
          "name": "stdout"
        }
      ]
    },
    {
      "cell_type": "code",
      "metadata": {
        "id": "zj4x6RKBHPXW",
        "colab_type": "code",
        "colab": {
          "base_uri": "https://localhost:8080/",
          "height": 69
        },
        "outputId": "10083868-d3ab-48bb-956a-3087f991414b"
      },
      "source": [
        "print(len(\"muy corta\"))\n",
        "print(len(\"esta cadena es corta\"))\n",
        "print(len(\"esta cadena es un poco mas larga\"))"
      ],
      "execution_count": 44,
      "outputs": [
        {
          "output_type": "stream",
          "text": [
            "9\n",
            "20\n",
            "32\n"
          ],
          "name": "stdout"
        }
      ]
    },
    {
      "cell_type": "code",
      "metadata": {
        "id": "pwunyblBHPXk",
        "colab_type": "code",
        "colab": {
          "base_uri": "https://localhost:8080/",
          "height": 104
        },
        "outputId": "3d9e91d3-6eaa-404a-9528-2f53383788bf"
      },
      "source": [
        "variable = input(\"Digite un número\")\n",
        "print (\"el valor es: \",variable)\n",
        "print (type(variable))\n",
        "x = int(variable)\n",
        "print (x)\n",
        "print (type(x))"
      ],
      "execution_count": 45,
      "outputs": [
        {
          "output_type": "stream",
          "text": [
            "Digite un número10\n",
            "el valor es:  10\n",
            "<class 'str'>\n",
            "10\n",
            "<class 'int'>\n"
          ],
          "name": "stdout"
        }
      ]
    },
    {
      "cell_type": "markdown",
      "metadata": {
        "id": "ihuAVjP0HPXv",
        "colab_type": "text"
      },
      "source": [
        "# Estructuras de Control Condicionales"
      ]
    },
    {
      "cell_type": "markdown",
      "metadata": {
        "id": "CDlawT2LHPX4",
        "colab_type": "text"
      },
      "source": [
        "En Python es muy importante la indentación, tanto en los condicionales como en los ciclos, se definen bloques indentados después de un caracter \":\""
      ]
    },
    {
      "cell_type": "markdown",
      "metadata": {
        "id": "StGx9M6WHPX5",
        "colab_type": "text"
      },
      "source": [
        "## If"
      ]
    },
    {
      "cell_type": "code",
      "metadata": {
        "id": "DQyGZW8SHPX7",
        "colab_type": "code",
        "colab": {}
      },
      "source": [
        "edad = 34\n",
        "if edad < 18:\n",
        "    print (\"Es menor de edad\")"
      ],
      "execution_count": 46,
      "outputs": []
    },
    {
      "cell_type": "code",
      "metadata": {
        "id": "T_Rjlhj2HPYL",
        "colab_type": "code",
        "colab": {
          "base_uri": "https://localhost:8080/",
          "height": 35
        },
        "outputId": "bbd93754-d1fe-4a62-ea53-9829b92bb138"
      },
      "source": [
        "nombre = \"Juan de la Encarnación\"\n",
        "if len(nombre) > 15:\n",
        "    print (\"Nombre muy largo!\")\n"
      ],
      "execution_count": 47,
      "outputs": [
        {
          "output_type": "stream",
          "text": [
            "Nombre muy largo!\n"
          ],
          "name": "stdout"
        }
      ]
    },
    {
      "cell_type": "markdown",
      "metadata": {
        "id": "bj3pT6B9HPYb",
        "colab_type": "text"
      },
      "source": [
        "## Else"
      ]
    },
    {
      "cell_type": "code",
      "metadata": {
        "id": "8C_a9J6xHPYc",
        "colab_type": "code",
        "colab": {
          "base_uri": "https://localhost:8080/",
          "height": 69
        },
        "outputId": "0183752c-9b18-4a33-f2cc-0a90bc205cbd"
      },
      "source": [
        "edad = int(input(\"Digite la edad: \"))\n",
        "if edad < 18:\n",
        "    print (\"Estas en el bloque de código del if\")\n",
        "    print (\"Es menor de edad\")\n",
        "else:\n",
        "    print (\"Estas en el bloque de código del else\")\n",
        "    print (\"Es mayor de edad\")"
      ],
      "execution_count": 48,
      "outputs": [
        {
          "output_type": "stream",
          "text": [
            "Digite la edad: 20\n",
            "Estas en el bloque de código del else\n",
            "Es mayor de edad\n"
          ],
          "name": "stdout"
        }
      ]
    },
    {
      "cell_type": "code",
      "metadata": {
        "id": "p0hAAEzqHPYq",
        "colab_type": "code",
        "colab": {
          "base_uri": "https://localhost:8080/",
          "height": 52
        },
        "outputId": "45ffdd0b-fd89-4241-eda3-8d390a3abf09"
      },
      "source": [
        "hora = int(input(\"Digite la hora: \"))\n",
        "if hora>=18 or hora<=6:\n",
        "    print (\"encender luces\")\n",
        "else:\n",
        "    print (\"apagar luces\")\n"
      ],
      "execution_count": 49,
      "outputs": [
        {
          "output_type": "stream",
          "text": [
            "Digite la hora: 23\n",
            "encender luces\n"
          ],
          "name": "stdout"
        }
      ]
    },
    {
      "cell_type": "code",
      "metadata": {
        "id": "K4NrhNGgSsy0",
        "colab_type": "code",
        "colab": {
          "base_uri": "https://localhost:8080/",
          "height": 52
        },
        "outputId": "e79bf409-ec52-4881-cc47-bd6bea8b9c1e"
      },
      "source": [
        "hora = int(input(\"Digite la hora: \"))\n",
        "if hora>=18 or hora<=6:\n",
        "    print (\"encender luces\")\n",
        "else:\n",
        "    print (\"apagar luces\")"
      ],
      "execution_count": 50,
      "outputs": [
        {
          "output_type": "stream",
          "text": [
            "Digite la hora: 5\n",
            "encender luces\n"
          ],
          "name": "stdout"
        }
      ]
    },
    {
      "cell_type": "code",
      "metadata": {
        "id": "Jcif8KwPHPYx",
        "colab_type": "code",
        "colab": {
          "base_uri": "https://localhost:8080/",
          "height": 52
        },
        "outputId": "34e4791d-2874-4044-ed3c-afe4ba3ae01e"
      },
      "source": [
        "edad = int(input(\"Digite la edad: \"))\n",
        "if edad < 2:\n",
        "    print (\"Bebé\")\n",
        "else:\n",
        "    if edad < 12:\n",
        "        print (\"Niño\")\n",
        "    else:\n",
        "        if edad <18:\n",
        "            print (\"Adolescente\")\n",
        "        else:\n",
        "            print (\"Adulto\")\n"
      ],
      "execution_count": 51,
      "outputs": [
        {
          "output_type": "stream",
          "text": [
            "Digite la edad: 23\n",
            "Adulto\n"
          ],
          "name": "stdout"
        }
      ]
    },
    {
      "cell_type": "markdown",
      "metadata": {
        "id": "2upcfWwtHPZB",
        "colab_type": "text"
      },
      "source": [
        "## Elif"
      ]
    },
    {
      "cell_type": "code",
      "metadata": {
        "id": "RRJ9nu6bHPZC",
        "colab_type": "code",
        "colab": {
          "base_uri": "https://localhost:8080/",
          "height": 52
        },
        "outputId": "1d7b9bea-e0cd-4b87-fcf6-e2e9911f3940"
      },
      "source": [
        "edad = int(input(\"Digite la edad: \"))\n",
        "if edad < 2:\n",
        "    print (\"Bebé\")\n",
        "elif edad < 12:\n",
        "    print (\"Niño\")\n",
        "elif edad <18:\n",
        "    print (\"Adolescente\")\n",
        "else:\n",
        "    print (\"Adulto\")\n"
      ],
      "execution_count": 52,
      "outputs": [
        {
          "output_type": "stream",
          "text": [
            "Digite la edad: 2\n",
            "Niño\n"
          ],
          "name": "stdout"
        }
      ]
    },
    {
      "cell_type": "markdown",
      "metadata": {
        "id": "SS82EPNmHPZS",
        "colab_type": "text"
      },
      "source": [
        "# Ejercicio: Largo de un nombre"
      ]
    },
    {
      "cell_type": "markdown",
      "metadata": {
        "id": "5bnpzfQwHPZs",
        "colab_type": "text"
      },
      "source": [
        "Escriba un programa que dados tres nombres, imprima el nombre mas corto y el mas largo de la siguiente forma:\n",
        "\n",
        "El nombre mas corto es XXXXX\n",
        "\n",
        "El nombre mas largo es HHHH"
      ]
    },
    {
      "cell_type": "code",
      "metadata": {
        "id": "Lskq6W7PTD9S",
        "colab_type": "code",
        "colab": {
          "base_uri": "https://localhost:8080/",
          "height": 104
        },
        "outputId": "b4f4d4fb-b940-417e-fec6-e56429d5870e"
      },
      "source": [
        "names = []\n",
        "for _ in range(3):\n",
        "  name = input('Ingrese un nombre: ')\n",
        "  names.append(name)\n",
        "print('El nombre más corto es {}'.format(min(names, key=len)))\n",
        "print('El nombre más largo es {}'.format(max(names, key=len)))"
      ],
      "execution_count": 53,
      "outputs": [
        {
          "output_type": "stream",
          "text": [
            "Ingrese un nombre: Jorge\n",
            "Ingrese un nombre: Juan Carlos\n",
            "Ingrese un nombre: Pepito Perez\n",
            "El nombre más corto es Jorge\n",
            "El nombre más largo es Pepito Perez\n"
          ],
          "name": "stdout"
        }
      ]
    },
    {
      "cell_type": "markdown",
      "metadata": {
        "id": "MfZ4aTe6HPZv",
        "colab_type": "text"
      },
      "source": [
        "# Ejercicio: residuo par"
      ]
    },
    {
      "cell_type": "markdown",
      "metadata": {
        "id": "-aB29W9lHPZw",
        "colab_type": "text"
      },
      "source": [
        "Cree un programa para determinar si la parte entera del residuo de la división de dos números es par o impar"
      ]
    },
    {
      "cell_type": "code",
      "metadata": {
        "id": "fRbWBADsVopG",
        "colab_type": "code",
        "colab": {
          "base_uri": "https://localhost:8080/",
          "height": 70
        },
        "outputId": "600ccb3f-c5c8-4f32-cedb-a31a76ee1ebd"
      },
      "source": [
        "dividend, divisor = input('Ingrese un el dividendo y divisor seperados por un espacio: ').split()\n",
        "dividend = int(dividend)\n",
        "divisor = int(divisor)\n",
        "residue = dividend // divisor\n",
        "print(residue)\n",
        "'Par' if residue % 2 == 0 else 'Impar'"
      ],
      "execution_count": 54,
      "outputs": [
        {
          "output_type": "stream",
          "text": [
            "Ingrese un el dividendo y divisor seperados por un espacio: 10 3\n",
            "3\n"
          ],
          "name": "stdout"
        },
        {
          "output_type": "execute_result",
          "data": {
            "application/vnd.google.colaboratory.intrinsic+json": {
              "type": "string"
            },
            "text/plain": [
              "'Impar'"
            ]
          },
          "metadata": {
            "tags": []
          },
          "execution_count": 54
        }
      ]
    },
    {
      "cell_type": "markdown",
      "metadata": {
        "id": "HmjdPHs_HPZz",
        "colab_type": "text"
      },
      "source": [
        "# Ejercicio: áreas de figuras"
      ]
    },
    {
      "cell_type": "markdown",
      "metadata": {
        "id": "ms61nIHHHPZ6",
        "colab_type": "text"
      },
      "source": [
        "Escriba un programa que imprima un menú de opciones y le pregunte al usuario cuál opción desea. Las opciones del menú son (1) calcular el área de un rectángulo, (2) calcular el perímetro de un triángulo y (3) calcular el área de una circunferencia."
      ]
    },
    {
      "cell_type": "code",
      "metadata": {
        "id": "rg_LaD3jXUQe",
        "colab_type": "code",
        "colab": {
          "base_uri": "https://localhost:8080/",
          "height": 173
        },
        "outputId": "c2ad492f-bb23-46a1-9bb5-77b113e24419"
      },
      "source": [
        "from math import pi\n",
        "menu = '''-------------------------------------------\n",
        "{:>22}\n",
        "1. Cálcular el área de un rectángulo.\n",
        "2. Cálcular el perimetro de un Triangulo\n",
        "3. Cálcular el area de una circunferencia\n",
        "-------------------------------------------'''.format('MENU')\n",
        "\n",
        "print(menu)\n",
        "option = int(input('Ingrese una opción del menú'))\n",
        "if option == 1:\n",
        "  base, height = input('Ingrese la base y altura separadas por un espacio: ').split()\n",
        "  base = int(base)\n",
        "  height = int(height)\n",
        "  rectangle_area = lambda b, h: b * h\n",
        "  print(rectangle_area(base,height))\n",
        "elif option == 2:\n",
        "  side1, side2, side3 = input('Ingrese los 3 lados del triangulo separados por un espacio: ').split()\n",
        "  side1 = int(side1)\n",
        "  side2 = int(side2)\n",
        "  side3 = int(side3)\n",
        "  triangle_perimeter = lambda s1,s2,s3: s1 +s2 + s3\n",
        "  print(triangle_perimeter(side1,side2,side3))\n",
        "else:\n",
        "  radio = int(input('Ingrese el radio del la circunferencia: '))\n",
        "  circle_area = lambda r: (r**2) * pi\n",
        "  print('{:.3f}'.format(circle_area(radio)))"
      ],
      "execution_count": 131,
      "outputs": [
        {
          "output_type": "stream",
          "text": [
            "-------------------------------------------\n",
            "                  MENU\n",
            "1. Cálcular el área de un rectángulo.\n",
            "2. Cálcular el perimetro de un Triangulo\n",
            "3. Cálcular el area de una circunferencia\n",
            "-------------------------------------------\n",
            "Ingrese una opción del menú3\n",
            "Ingrese el radio del la circunferencia: 5\n",
            "78.540\n"
          ],
          "name": "stdout"
        }
      ]
    },
    {
      "cell_type": "markdown",
      "metadata": {
        "id": "atLj6y7VHPZ9",
        "colab_type": "text"
      },
      "source": [
        "## Ciclos en Python"
      ]
    },
    {
      "cell_type": "markdown",
      "metadata": {
        "id": "Z47Df6shHPZ-",
        "colab_type": "text"
      },
      "source": [
        "La cláusula **while** determinan ciclos iterativos de código que se ejecutan mientras se cumpla una condición especificada antes del separador \":\"."
      ]
    },
    {
      "cell_type": "code",
      "metadata": {
        "id": "4He9qRqaHPaB",
        "colab_type": "code",
        "colab": {
          "base_uri": "https://localhost:8080/",
          "height": 191
        },
        "outputId": "0f338c2e-97fb-4e90-e1ad-6c1dfe979691"
      },
      "source": [
        "i = 1\n",
        "while i<=10:\n",
        "    print (str(i))\n",
        "    i = i + 1"
      ],
      "execution_count": 56,
      "outputs": [
        {
          "output_type": "stream",
          "text": [
            "1\n",
            "2\n",
            "3\n",
            "4\n",
            "5\n",
            "6\n",
            "7\n",
            "8\n",
            "9\n",
            "10\n"
          ],
          "name": "stdout"
        }
      ]
    },
    {
      "cell_type": "markdown",
      "metadata": {
        "id": "b0jhyVCDHPaT",
        "colab_type": "text"
      },
      "source": [
        "Se pueden anidar ciclos y condicionales"
      ]
    },
    {
      "cell_type": "code",
      "metadata": {
        "scrolled": false,
        "id": "o6b6-CygHPaT",
        "colab_type": "code",
        "colab": {
          "base_uri": "https://localhost:8080/",
          "height": 191
        },
        "outputId": "5bdbe7e4-e6fc-4dda-f0d9-85b286c4aa4e"
      },
      "source": [
        "# ciclos utilizando la clausula while\n",
        "i = 1\n",
        "while i<=10:\n",
        "    if i%2==1:\n",
        "        print (str(i)+\". Buenos días!\")\n",
        "    else:\n",
        "        print (str(i)+\". Buen provecho con ese desayuno!\")\n",
        "    i+=1\n"
      ],
      "execution_count": 57,
      "outputs": [
        {
          "output_type": "stream",
          "text": [
            "1. Buenos días!\n",
            "2. Buen provecho con ese desayuno!\n",
            "3. Buenos días!\n",
            "4. Buen provecho con ese desayuno!\n",
            "5. Buenos días!\n",
            "6. Buen provecho con ese desayuno!\n",
            "7. Buenos días!\n",
            "8. Buen provecho con ese desayuno!\n",
            "9. Buenos días!\n",
            "10. Buen provecho con ese desayuno!\n"
          ],
          "name": "stdout"
        }
      ]
    },
    {
      "cell_type": "markdown",
      "metadata": {
        "id": "jNDyBLRBHPad",
        "colab_type": "text"
      },
      "source": [
        "Muchas funciones y objetos no se encuentran en el lenguaje Python de base, sino en módulos (librerías) adicionales.\n",
        "Para poder acceder a ellas, es necesario importarlas, ya sea especificando la librería completa (con **import** y una abreviación de la libería especificada con **as**), ya sea la funcionalidad específica (con **from** e **import**)."
      ]
    },
    {
      "cell_type": "markdown",
      "metadata": {
        "id": "-43HTNFXHPae",
        "colab_type": "text"
      },
      "source": [
        "Imprimiendo la hora en Python"
      ]
    },
    {
      "cell_type": "code",
      "metadata": {
        "id": "fkpdwgTVHPaf",
        "colab_type": "code",
        "colab": {
          "base_uri": "https://localhost:8080/",
          "height": 35
        },
        "outputId": "78622f9d-b739-414e-d6b8-05e504e1c8e9"
      },
      "source": [
        "import datetime as dt\n",
        "print(dt.datetime.now())"
      ],
      "execution_count": 58,
      "outputs": [
        {
          "output_type": "stream",
          "text": [
            "2020-08-12 22:42:57.398039\n"
          ],
          "name": "stdout"
        }
      ]
    },
    {
      "cell_type": "code",
      "metadata": {
        "id": "i1yMkC1-HPak",
        "colab_type": "code",
        "colab": {
          "base_uri": "https://localhost:8080/",
          "height": 35
        },
        "outputId": "db22882d-90bf-48d0-baa4-e42d81c0e417"
      },
      "source": [
        "from datetime import datetime\n",
        "print(datetime.now())"
      ],
      "execution_count": 59,
      "outputs": [
        {
          "output_type": "stream",
          "text": [
            "2020-08-12 22:42:57.406868\n"
          ],
          "name": "stdout"
        }
      ]
    },
    {
      "cell_type": "code",
      "metadata": {
        "id": "-LqBsQqOHPau",
        "colab_type": "code",
        "colab": {
          "base_uri": "https://localhost:8080/",
          "height": 208
        },
        "outputId": "e481ac8f-af4a-43d2-8c53-df25cd1a17d3"
      },
      "source": [
        "from datetime import datetime\n",
        "opcion = 0\n",
        "while opcion != 2:\n",
        "    menuHora = '''\n",
        "    Menú de opciones\n",
        "    1. Hora actual\n",
        "    2. Salir\n",
        "    Digite la opción:'''\n",
        "    opcion = int(input(menuHora))\n",
        "    if opcion==1:\n",
        "        print(\"La fecha y hora actual es: %s\"%(datetime.now()))\n"
      ],
      "execution_count": 60,
      "outputs": [
        {
          "output_type": "stream",
          "text": [
            "\n",
            "    Menú de opciones\n",
            "    1. Hora actual\n",
            "    2. Salir\n",
            "    Digite la opción:1\n",
            "La fecha y hora actual es: 2020-08-12 22:43:28.931026\n",
            "\n",
            "    Menú de opciones\n",
            "    1. Hora actual\n",
            "    2. Salir\n",
            "    Digite la opción:2\n"
          ],
          "name": "stdout"
        }
      ]
    },
    {
      "cell_type": "code",
      "metadata": {
        "id": "h2x_mWcKHPaz",
        "colab_type": "code",
        "colab": {
          "base_uri": "https://localhost:8080/",
          "height": 156
        },
        "outputId": "562cb7e7-04d4-4563-f479-963c069449df"
      },
      "source": [
        "# version 1.0\n",
        "lados = int(input(\"Por favor digite la cantidad de lados del polígono: \"))\n",
        "\n",
        "if lados>2:\n",
        "    contador = 1\n",
        "    perimetro = 0\n",
        "    while contador <= lados:\n",
        "        longitud = float(input(f\"Por favor digite la longitud del lado {contador}: \"))\n",
        "        perimetro = perimetro + longitud\n",
        "        contador = contador + 1\n",
        "    print(f\"El perímetro del polígono de {lados} lados es {perimetro}\")\n",
        "else:\n",
        "    print(\"No existen polígonos cuya cantidad de lados sea %s\"%lados)"
      ],
      "execution_count": 61,
      "outputs": [
        {
          "output_type": "stream",
          "text": [
            "Por favor digite la cantidad de lados del polígono: 6\n",
            "Por favor digite la longitud del lado 1: 2\n",
            "Por favor digite la longitud del lado 2: 3\n",
            "Por favor digite la longitud del lado 3: 5\n",
            "Por favor digite la longitud del lado 4: 4\n",
            "Por favor digite la longitud del lado 5: 5\n",
            "Por favor digite la longitud del lado 6: 3\n",
            "El perímetro del polígono de 6 lados es 22.0\n"
          ],
          "name": "stdout"
        }
      ]
    },
    {
      "cell_type": "code",
      "metadata": {
        "scrolled": true,
        "id": "21LJF8e_HPbG",
        "colab_type": "code",
        "colab": {
          "base_uri": "https://localhost:8080/",
          "height": 104
        },
        "outputId": "0351f03d-83ff-4e6b-ac91-2146c27348b0"
      },
      "source": [
        "# version 2.0\n",
        "lados = 0\n",
        "seguir = 1\n",
        "while lados<=2 and seguir==1:\n",
        "    lados = int(input(\"Por favor digite la cantidad de lados del polígono: \"))\n",
        "    if lados<=2:\n",
        "        print(\"No existen polígonos cuya cantidad de lados sea %s\"%lados)\n",
        "        seguir = int(input(\"Desea seguir intentándolo?\\nDigite 1 para seguir. Digite 2 para salir: \"))\n",
        "\n",
        "if seguir==1:\n",
        "    contador = 1\n",
        "    perimetro = 0\n",
        "    while contador <= lados:\n",
        "        longitud = float(input(f\"Por favor digite la longitud del lado {contador}: \"))\n",
        "        perimetro = perimetro + longitud\n",
        "        contador = contador + 1\n",
        "    print(f\"El perímetro del polígono de {lados} lados es {perimetro}\")"
      ],
      "execution_count": 62,
      "outputs": [
        {
          "output_type": "stream",
          "text": [
            "Por favor digite la cantidad de lados del polígono: 3\n",
            "Por favor digite la longitud del lado 1: 2\n",
            "Por favor digite la longitud del lado 2: 4\n",
            "Por favor digite la longitud del lado 3: 3\n",
            "El perímetro del polígono de 3 lados es 9.0\n"
          ],
          "name": "stdout"
        }
      ]
    },
    {
      "cell_type": "markdown",
      "metadata": {
        "id": "W2rMJSSPHPbY",
        "colab_type": "text"
      },
      "source": [
        "También existen ciclos con la cláusula **for**, en donde se puede especificar un estructura sobre la cual iterar."
      ]
    },
    {
      "cell_type": "code",
      "metadata": {
        "id": "xZD1utLlHPbe",
        "colab_type": "code",
        "colab": {
          "base_uri": "https://localhost:8080/",
          "height": 121
        },
        "outputId": "910570a2-604a-477b-8dc5-df1f83fe5b21"
      },
      "source": [
        "personas = [\"Camilo\",\"Aura\",\"Claudia\",\"Daniel\",\"Juan\",\"Andrea\"]\n",
        "for nombre in personas:\n",
        "    print(nombre)"
      ],
      "execution_count": 63,
      "outputs": [
        {
          "output_type": "stream",
          "text": [
            "Camilo\n",
            "Aura\n",
            "Claudia\n",
            "Daniel\n",
            "Juan\n",
            "Andrea\n"
          ],
          "name": "stdout"
        }
      ]
    },
    {
      "cell_type": "markdown",
      "metadata": {
        "id": "4UsDtSW_HPbp",
        "colab_type": "text"
      },
      "source": [
        "La función **range()** se utiliza a menudo conjuntamente con las instrucciones de ciclos para obtener una estructura iterativa  de rango de índices sobre la cual iterar, definida a partir de un valor de comienzo (0 por defecto) y un valor de final (no incluido). Opcionalmente, se puede especificar el paso de salto entre un valor y el siguiente (que puede ser negativo).  "
      ]
    },
    {
      "cell_type": "code",
      "metadata": {
        "id": "r2_ISOUYHPbv",
        "colab_type": "code",
        "colab": {
          "base_uri": "https://localhost:8080/",
          "height": 121
        },
        "outputId": "1fc2fd61-6c22-4e4f-93ea-f8aed4e9414a"
      },
      "source": [
        "for i in range(6):\n",
        "    print(i,end=\" \") #Se especifica el espacio \" \" para que no salte la línea\n",
        "print(\"\")\n",
        "for i in range(10,15):\n",
        "    print(i,end=\" \")\n",
        "print(\"\")\n",
        "for z in range(1,20,2):\n",
        "    print(z,end=\"-\")\n",
        "print(\"\")\n",
        "for x in range(10,3,-2):\n",
        "    print(x, end=\"/\")\n",
        "print(\"\")\n",
        "for x in range(10,2,-2): # analicen por qué este ciclo y el anterior tienen el mismo resultado\n",
        "    print(x, end=\"/\")\n",
        "print(\"\")\n",
        "for x in range(10,1,-2):\n",
        "    print(x, end=\"/\")"
      ],
      "execution_count": 64,
      "outputs": [
        {
          "output_type": "stream",
          "text": [
            "0 1 2 3 4 5 \n",
            "10 11 12 13 14 \n",
            "1-3-5-7-9-11-13-15-17-19-\n",
            "10/8/6/4/\n",
            "10/8/6/4/\n",
            "10/8/6/4/2/"
          ],
          "name": "stdout"
        }
      ]
    },
    {
      "cell_type": "code",
      "metadata": {
        "id": "PxoJXWnAHPb2",
        "colab_type": "code",
        "colab": {
          "base_uri": "https://localhost:8080/",
          "height": 121
        },
        "outputId": "bb2f9a49-168d-4bff-a4a2-5eecd4e5c8e1"
      },
      "source": [
        "for i in range(len(personas)):\n",
        "    print(i+1,personas[i])"
      ],
      "execution_count": 65,
      "outputs": [
        {
          "output_type": "stream",
          "text": [
            "1 Camilo\n",
            "2 Aura\n",
            "3 Claudia\n",
            "4 Daniel\n",
            "5 Juan\n",
            "6 Andrea\n"
          ],
          "name": "stdout"
        }
      ]
    },
    {
      "cell_type": "markdown",
      "metadata": {
        "id": "7kj5unxPHPcB",
        "colab_type": "text"
      },
      "source": [
        "Una cadena de caracteres se puede utilizar como estructura de base sobre la cual iterar"
      ]
    },
    {
      "cell_type": "code",
      "metadata": {
        "id": "_zrnTqsdHPcC",
        "colab_type": "code",
        "colab": {
          "base_uri": "https://localhost:8080/",
          "height": 52
        },
        "outputId": "d17bdc2a-fc61-49d1-d734-8cac4cd6e9cc"
      },
      "source": [
        "nombre = input(\"Digite un nombre: \")\n",
        "for c in nombre:\n",
        "    print(c,end=\",\")"
      ],
      "execution_count": 66,
      "outputs": [
        {
          "output_type": "stream",
          "text": [
            "Digite un nombre: Juan\n",
            "J,u,a,n,"
          ],
          "name": "stdout"
        }
      ]
    },
    {
      "cell_type": "markdown",
      "metadata": {
        "id": "KOGqTPqfHPcJ",
        "colab_type": "text"
      },
      "source": [
        "# Listas"
      ]
    },
    {
      "cell_type": "markdown",
      "metadata": {
        "id": "id3XmM0NHPcK",
        "colab_type": "text"
      },
      "source": [
        "Las listas en Python se definen con los corchetes \"\\[\" y \"\\]\". Se trata de conjuntos de valores que no necesariamente tienen el mismo tipo "
      ]
    },
    {
      "cell_type": "code",
      "metadata": {
        "id": "_8QjwMD1HPcL",
        "colab_type": "code",
        "colab": {}
      },
      "source": [
        "l1 = [9, \"cadena\", 8.4]"
      ],
      "execution_count": 85,
      "outputs": []
    },
    {
      "cell_type": "code",
      "metadata": {
        "id": "trOQVt-nHPcW",
        "colab_type": "code",
        "colab": {
          "base_uri": "https://localhost:8080/",
          "height": 35
        },
        "outputId": "93a988f0-9ad4-4227-c7f3-4deca4d69d23"
      },
      "source": [
        "print(l1)"
      ],
      "execution_count": 86,
      "outputs": [
        {
          "output_type": "stream",
          "text": [
            "[9, 'cadena', 8.4]\n"
          ],
          "name": "stdout"
        }
      ]
    },
    {
      "cell_type": "markdown",
      "metadata": {
        "id": "H1CM0yVDHPci",
        "colab_type": "text"
      },
      "source": [
        "Se puede acceder a cada miembro de una lista indexando, empezando en 0."
      ]
    },
    {
      "cell_type": "code",
      "metadata": {
        "id": "z2p21ufhHPck",
        "colab_type": "code",
        "colab": {
          "base_uri": "https://localhost:8080/",
          "height": 52
        },
        "outputId": "3b1e3ae2-65e4-48da-a03d-9d1505cea414"
      },
      "source": [
        "cuadrados = [1, 4, 9, 16, 25]\n",
        "print(cuadrados[3])\n",
        "print(cuadrados[0])"
      ],
      "execution_count": 87,
      "outputs": [
        {
          "output_type": "stream",
          "text": [
            "16\n",
            "1\n"
          ],
          "name": "stdout"
        }
      ]
    },
    {
      "cell_type": "markdown",
      "metadata": {
        "id": "zOpxThn4HPcq",
        "colab_type": "text"
      },
      "source": [
        "Se permiten índices negativos, empezando en -1."
      ]
    },
    {
      "cell_type": "code",
      "metadata": {
        "id": "MVhZs03PHPcr",
        "colab_type": "code",
        "colab": {
          "base_uri": "https://localhost:8080/",
          "height": 69
        },
        "outputId": "6cb08387-2b97-4b7e-b634-c0f5e0d8fe46"
      },
      "source": [
        "print(cuadrados[-1])\n",
        "print(cuadrados[-2])\n",
        "print(cuadrados[-5])"
      ],
      "execution_count": 88,
      "outputs": [
        {
          "output_type": "stream",
          "text": [
            "25\n",
            "16\n",
            "1\n"
          ],
          "name": "stdout"
        }
      ]
    },
    {
      "cell_type": "markdown",
      "metadata": {
        "id": "WCBOceyHHPcz",
        "colab_type": "text"
      },
      "source": [
        "Se puede hacer \"slicing\" con un rango de posiciones, utilizando el operador \":\", especificando el índice del comienzo (incluido) y el del final (no incluido)"
      ]
    },
    {
      "cell_type": "code",
      "metadata": {
        "id": "7QnR0t1AHPc0",
        "colab_type": "code",
        "colab": {
          "base_uri": "https://localhost:8080/",
          "height": 35
        },
        "outputId": "97afa144-3230-45ba-f7bd-60e2f12b91f8"
      },
      "source": [
        "print(cuadrados[1:3])"
      ],
      "execution_count": 89,
      "outputs": [
        {
          "output_type": "stream",
          "text": [
            "[4, 9]\n"
          ],
          "name": "stdout"
        }
      ]
    },
    {
      "cell_type": "markdown",
      "metadata": {
        "id": "jv57o_pDHPdE",
        "colab_type": "text"
      },
      "source": [
        "Si no se especifica el comienzo (o final) del rango, se asume que se trata desde el primer elemento (o último elemento). "
      ]
    },
    {
      "cell_type": "code",
      "metadata": {
        "id": "5HBny-CCHPdF",
        "colab_type": "code",
        "colab": {
          "base_uri": "https://localhost:8080/",
          "height": 35
        },
        "outputId": "79c04878-277c-4d64-a1ea-ff82aa18548b"
      },
      "source": [
        "print(cuadrados[2:])"
      ],
      "execution_count": 90,
      "outputs": [
        {
          "output_type": "stream",
          "text": [
            "[9, 16, 25]\n"
          ],
          "name": "stdout"
        }
      ]
    },
    {
      "cell_type": "code",
      "metadata": {
        "id": "FrDa4WlSHPdJ",
        "colab_type": "code",
        "colab": {
          "base_uri": "https://localhost:8080/",
          "height": 35
        },
        "outputId": "c99746ae-03dd-479b-ead6-6bc6befa9a3a"
      },
      "source": [
        "print(cuadrados[:4])"
      ],
      "execution_count": 91,
      "outputs": [
        {
          "output_type": "stream",
          "text": [
            "[1, 4, 9, 16]\n"
          ],
          "name": "stdout"
        }
      ]
    },
    {
      "cell_type": "code",
      "metadata": {
        "id": "G4du8rUlHPdS",
        "colab_type": "code",
        "colab": {
          "base_uri": "https://localhost:8080/",
          "height": 35
        },
        "outputId": "377adcc1-258f-49ca-bbb2-41ceae77fcff"
      },
      "source": [
        "print(cuadrados[:])"
      ],
      "execution_count": 92,
      "outputs": [
        {
          "output_type": "stream",
          "text": [
            "[1, 4, 9, 16, 25]\n"
          ],
          "name": "stdout"
        }
      ]
    },
    {
      "cell_type": "markdown",
      "metadata": {
        "id": "j-w5HMeXHPdY",
        "colab_type": "text"
      },
      "source": [
        "Con el operador \"+\", se concatenan las listas"
      ]
    },
    {
      "cell_type": "code",
      "metadata": {
        "id": "YuUhYqvIHPdc",
        "colab_type": "code",
        "colab": {
          "base_uri": "https://localhost:8080/",
          "height": 35
        },
        "outputId": "cde163ea-26c9-4576-bd63-1d0bec12decb"
      },
      "source": [
        "cuadrados = cuadrados + [36, 49, 64, 81]\n",
        "print(cuadrados)"
      ],
      "execution_count": 93,
      "outputs": [
        {
          "output_type": "stream",
          "text": [
            "[1, 4, 9, 16, 25, 36, 49, 64, 81]\n"
          ],
          "name": "stdout"
        }
      ]
    },
    {
      "cell_type": "code",
      "metadata": {
        "id": "9CQAhO_iHPdo",
        "colab_type": "code",
        "colab": {
          "base_uri": "https://localhost:8080/",
          "height": 52
        },
        "outputId": "ae103e04-d40b-4938-9488-f16e211887d8"
      },
      "source": [
        "cuadrados = cuadrados + [99,99]\n",
        "print(cuadrados)\n",
        "print(len(cuadrados))"
      ],
      "execution_count": 94,
      "outputs": [
        {
          "output_type": "stream",
          "text": [
            "[1, 4, 9, 16, 25, 36, 49, 64, 81, 99, 99]\n",
            "11\n"
          ],
          "name": "stdout"
        }
      ]
    },
    {
      "cell_type": "code",
      "metadata": {
        "id": "0nbvPZBTHPdu",
        "colab_type": "code",
        "colab": {
          "base_uri": "https://localhost:8080/",
          "height": 35
        },
        "outputId": "fa38d952-91a2-43af-81c1-0c2120552046"
      },
      "source": [
        "cuadrados[9] = 100\n",
        "cuadrados[10] = 121\n",
        "print(cuadrados)"
      ],
      "execution_count": 95,
      "outputs": [
        {
          "output_type": "stream",
          "text": [
            "[1, 4, 9, 16, 25, 36, 49, 64, 81, 100, 121]\n"
          ],
          "name": "stdout"
        }
      ]
    },
    {
      "cell_type": "markdown",
      "metadata": {
        "id": "0G9XlkwBHPd2",
        "colab_type": "text"
      },
      "source": [
        "También se puede concatenar con el método **append**."
      ]
    },
    {
      "cell_type": "code",
      "metadata": {
        "id": "zmkDvDIzHPd3",
        "colab_type": "code",
        "colab": {
          "base_uri": "https://localhost:8080/",
          "height": 35
        },
        "outputId": "1ed503e8-feaf-4413-d7de-faabe40ae618"
      },
      "source": [
        "cuadrados.append(144)\n",
        "print(cuadrados)"
      ],
      "execution_count": 96,
      "outputs": [
        {
          "output_type": "stream",
          "text": [
            "[1, 4, 9, 16, 25, 36, 49, 64, 81, 100, 121, 144]\n"
          ],
          "name": "stdout"
        }
      ]
    },
    {
      "cell_type": "markdown",
      "metadata": {
        "id": "Pa-KUewVHPd5",
        "colab_type": "text"
      },
      "source": [
        "Se pueden utilizar las listas como objeto de iteración"
      ]
    },
    {
      "cell_type": "code",
      "metadata": {
        "id": "YYmRB2ILHPd5",
        "colab_type": "code",
        "colab": {
          "base_uri": "https://localhost:8080/",
          "height": 35
        },
        "outputId": "7e0a7892-caf9-4173-b1d6-cf531c9b5232"
      },
      "source": [
        "for i in cuadrados:\n",
        "    print(i, end=\"--\")"
      ],
      "execution_count": 97,
      "outputs": [
        {
          "output_type": "stream",
          "text": [
            "1--4--9--16--25--36--49--64--81--100--121--144--"
          ],
          "name": "stdout"
        }
      ]
    },
    {
      "cell_type": "markdown",
      "metadata": {
        "id": "7RaxhSTXHPd9",
        "colab_type": "text"
      },
      "source": [
        "Se pueden modificar los elementos de una lista con asignación normal, usando rangos.\n",
        "\n",
        "Se pueden incluir listas dentro de listas, y utilizar múltiple indexación para acceder a los contenidos. No hay restricciones con respecto a la dimensionalidad de las listas compuestas (como si lo habría en una matriz)."
      ]
    },
    {
      "cell_type": "code",
      "metadata": {
        "id": "Tm9kJWSOHPd-",
        "colab_type": "code",
        "colab": {
          "base_uri": "https://localhost:8080/",
          "height": 121
        },
        "outputId": "f41da8e6-dc30-4225-aef0-b5659401b5a4"
      },
      "source": [
        "letras = ['a','b','c','d','e','f','g']\n",
        "print(letras)\n",
        "letras[2:5] = ['C','D','F']\n",
        "print(letras)\n",
        "print(letras[-2:-1])\n",
        "print(letras[-2:])\n",
        "letras[0:1] = [['x', 'y', 'z']]\n",
        "print(letras)\n",
        "print(letras[0][2])"
      ],
      "execution_count": 98,
      "outputs": [
        {
          "output_type": "stream",
          "text": [
            "['a', 'b', 'c', 'd', 'e', 'f', 'g']\n",
            "['a', 'b', 'C', 'D', 'F', 'f', 'g']\n",
            "['f']\n",
            "['f', 'g']\n",
            "[['x', 'y', 'z'], 'b', 'C', 'D', 'F', 'f', 'g']\n",
            "z\n"
          ],
          "name": "stdout"
        }
      ]
    },
    {
      "cell_type": "code",
      "metadata": {
        "id": "7TmmhYIfHPeA",
        "colab_type": "code",
        "colab": {
          "base_uri": "https://localhost:8080/",
          "height": 69
        },
        "outputId": "f9244585-295a-4c8a-a26d-44f43f99f902"
      },
      "source": [
        "r = range(4,15,2)\n",
        "print(r)\n",
        "lr = list(r)\n",
        "print(lr)\n",
        "print(list(range(100,3000,150)))"
      ],
      "execution_count": 99,
      "outputs": [
        {
          "output_type": "stream",
          "text": [
            "range(4, 15, 2)\n",
            "[4, 6, 8, 10, 12, 14]\n",
            "[100, 250, 400, 550, 700, 850, 1000, 1150, 1300, 1450, 1600, 1750, 1900, 2050, 2200, 2350, 2500, 2650, 2800, 2950]\n"
          ],
          "name": "stdout"
        }
      ]
    },
    {
      "cell_type": "markdown",
      "metadata": {
        "id": "69F7TediHPeM",
        "colab_type": "text"
      },
      "source": [
        "Se puede utilizar el operador **in** para evaluar si un elemento es parte o no de una lista."
      ]
    },
    {
      "cell_type": "code",
      "metadata": {
        "id": "jf5ovtJpHPeM",
        "colab_type": "code",
        "colab": {
          "base_uri": "https://localhost:8080/",
          "height": 35
        },
        "outputId": "4d8476cb-92e9-4095-94be-1f4e17c708ed"
      },
      "source": [
        "lista = [2,3,4]\n",
        "i = 5 in lista\n",
        "i"
      ],
      "execution_count": 100,
      "outputs": [
        {
          "output_type": "execute_result",
          "data": {
            "text/plain": [
              "False"
            ]
          },
          "metadata": {
            "tags": []
          },
          "execution_count": 100
        }
      ]
    },
    {
      "cell_type": "markdown",
      "metadata": {
        "id": "dA6ap3wPHPeQ",
        "colab_type": "text"
      },
      "source": [
        "Las cadenas de caracteres se pueden tratar como listas."
      ]
    },
    {
      "cell_type": "code",
      "metadata": {
        "id": "sU4itVeVHPeQ",
        "colab_type": "code",
        "colab": {
          "base_uri": "https://localhost:8080/",
          "height": 35
        },
        "outputId": "82b8a937-125d-44bb-8a1d-88ed641ad73c"
      },
      "source": [
        "cadena = \"Hola a todos\"\n",
        "print(cadena[:-1])"
      ],
      "execution_count": 101,
      "outputs": [
        {
          "output_type": "stream",
          "text": [
            "Hola a todo\n"
          ],
          "name": "stdout"
        }
      ]
    },
    {
      "cell_type": "code",
      "metadata": {
        "id": "fPlWzzRHHPeY",
        "colab_type": "code",
        "colab": {
          "base_uri": "https://localhost:8080/",
          "height": 219
        },
        "outputId": "aef4d294-61c5-40ff-b20c-be25da7bf322"
      },
      "source": [
        "frase = \"Python nació en 1991\"\n",
        "print(frase[0])\n",
        "\n",
        "#las cadenas de caracteres son inmutables (no se pueden modificar):\n",
        "frase[0] = \"p\""
      ],
      "execution_count": 102,
      "outputs": [
        {
          "output_type": "stream",
          "text": [
            "P\n"
          ],
          "name": "stdout"
        },
        {
          "output_type": "error",
          "ename": "TypeError",
          "evalue": "ignored",
          "traceback": [
            "\u001b[0;31m---------------------------------------------------------------------------\u001b[0m",
            "\u001b[0;31mTypeError\u001b[0m                                 Traceback (most recent call last)",
            "\u001b[0;32m<ipython-input-102-f86ae40b4fa1>\u001b[0m in \u001b[0;36m<module>\u001b[0;34m()\u001b[0m\n\u001b[1;32m      3\u001b[0m \u001b[0;34m\u001b[0m\u001b[0m\n\u001b[1;32m      4\u001b[0m \u001b[0;31m#las cadenas de caracteres son inmutables (no se pueden modificar):\u001b[0m\u001b[0;34m\u001b[0m\u001b[0;34m\u001b[0m\u001b[0;34m\u001b[0m\u001b[0m\n\u001b[0;32m----> 5\u001b[0;31m \u001b[0mfrase\u001b[0m\u001b[0;34m[\u001b[0m\u001b[0;36m0\u001b[0m\u001b[0;34m]\u001b[0m \u001b[0;34m=\u001b[0m \u001b[0;34m\"p\"\u001b[0m\u001b[0;34m\u001b[0m\u001b[0;34m\u001b[0m\u001b[0m\n\u001b[0m",
            "\u001b[0;31mTypeError\u001b[0m: 'str' object does not support item assignment"
          ]
        }
      ]
    },
    {
      "cell_type": "markdown",
      "metadata": {
        "id": "eOZZQkpeHPec",
        "colab_type": "text"
      },
      "source": [
        "Existen operaciones como **lower()** y **upper()** que reciben cadenas como entrada y producen nuevas cadenas con el contenido transformado. "
      ]
    },
    {
      "cell_type": "code",
      "metadata": {
        "id": "jXAHllyWHPec",
        "colab_type": "code",
        "colab": {
          "base_uri": "https://localhost:8080/",
          "height": 69
        },
        "outputId": "b7d729c3-4023-4448-eea6-74af5bd30562"
      },
      "source": [
        "frase1 = \"Python nació en 1991\"\n",
        "frase2 = frase1.lower()\n",
        "frase3 = frase1.upper()\n",
        "\n",
        "print(frase1)\n",
        "print(frase2)\n",
        "print(frase3)"
      ],
      "execution_count": 103,
      "outputs": [
        {
          "output_type": "stream",
          "text": [
            "Python nació en 1991\n",
            "python nació en 1991\n",
            "PYTHON NACIÓ EN 1991\n"
          ],
          "name": "stdout"
        }
      ]
    },
    {
      "cell_type": "markdown",
      "metadata": {
        "id": "D6wp1F2kHPeg",
        "colab_type": "text"
      },
      "source": [
        "# Ejercicio: conteo sobre listas"
      ]
    },
    {
      "cell_type": "markdown",
      "metadata": {
        "id": "ldU2e-qBHPeh",
        "colab_type": "text"
      },
      "source": [
        "Escriba un programa que permita leer n números enteros, luego lea un (1) número y diga cuántas veces se encuentra en el listado inicial"
      ]
    },
    {
      "cell_type": "code",
      "metadata": {
        "id": "VTshbLyFxfqh",
        "colab_type": "code",
        "colab": {
          "base_uri": "https://localhost:8080/",
          "height": 173
        },
        "outputId": "977b25a5-8678-47d5-898d-343e80d67ef8"
      },
      "source": [
        "size = int(input('Ingrese la cantidad de números de la lista: '))\n",
        "numbers = []\n",
        "for _ in range(size):\n",
        "  number = int(input('Ingrese un número: '))\n",
        "  numbers.append(number)\n",
        "\n",
        "number_find = int(input('Diga que elemento desea contar en la lista: '))\n",
        "print('El número {} está {} veces'.format(number_find, numbers.count(number_find)))"
      ],
      "execution_count": 104,
      "outputs": [
        {
          "output_type": "stream",
          "text": [
            "Ingrese la cantidad de números de la lista: 6\n",
            "Ingrese un número: 1\n",
            "Ingrese un número: 3\n",
            "Ingrese un número: 2\n",
            "Ingrese un número: 1\n",
            "Ingrese un número: 1\n",
            "Ingrese un número: 5\n",
            "Diga que elemento desea contar en la lista: 1\n",
            "El número 1 está 3 veces\n"
          ],
          "name": "stdout"
        }
      ]
    },
    {
      "cell_type": "markdown",
      "metadata": {
        "id": "O-x32fe-HPep",
        "colab_type": "text"
      },
      "source": [
        "# Tuplas"
      ]
    },
    {
      "cell_type": "markdown",
      "metadata": {
        "id": "s7k_edSgHPep",
        "colab_type": "text"
      },
      "source": [
        "Las tuplas son estructuras similares a las listas, permiten agrupar valores de diferentes tipos, pero al contrario de estas últimas, son inmutables.\n",
        "Se definen usualmente utilizando paréntesis en vez de corchetes, aunque en realidad no son obligatorios."
      ]
    },
    {
      "cell_type": "code",
      "metadata": {
        "id": "mk22rgX-HPep",
        "colab_type": "code",
        "colab": {
          "base_uri": "https://localhost:8080/",
          "height": 253
        },
        "outputId": "9d304100-8976-4102-8460-fe074136b873"
      },
      "source": [
        "tupla = (34, 56, 11)\n",
        "print(tupla)\n",
        "tupla = 34, 56, 11\n",
        "print(tupla)\n",
        "print(tupla[0])\n",
        "\n",
        "tupla[1] = 74 # Por qué no funciona esta línea? R// Porque las tuplas son inmutables"
      ],
      "execution_count": 105,
      "outputs": [
        {
          "output_type": "stream",
          "text": [
            "(34, 56, 11)\n",
            "(34, 56, 11)\n",
            "34\n"
          ],
          "name": "stdout"
        },
        {
          "output_type": "error",
          "ename": "TypeError",
          "evalue": "ignored",
          "traceback": [
            "\u001b[0;31m---------------------------------------------------------------------------\u001b[0m",
            "\u001b[0;31mTypeError\u001b[0m                                 Traceback (most recent call last)",
            "\u001b[0;32m<ipython-input-105-b54f5d917d57>\u001b[0m in \u001b[0;36m<module>\u001b[0;34m()\u001b[0m\n\u001b[1;32m      5\u001b[0m \u001b[0mprint\u001b[0m\u001b[0;34m(\u001b[0m\u001b[0mtupla\u001b[0m\u001b[0;34m[\u001b[0m\u001b[0;36m0\u001b[0m\u001b[0;34m]\u001b[0m\u001b[0;34m)\u001b[0m\u001b[0;34m\u001b[0m\u001b[0;34m\u001b[0m\u001b[0m\n\u001b[1;32m      6\u001b[0m \u001b[0;34m\u001b[0m\u001b[0m\n\u001b[0;32m----> 7\u001b[0;31m \u001b[0mtupla\u001b[0m\u001b[0;34m[\u001b[0m\u001b[0;36m1\u001b[0m\u001b[0;34m]\u001b[0m \u001b[0;34m=\u001b[0m \u001b[0;36m74\u001b[0m \u001b[0;31m# Por qué no funciona esta línea?\u001b[0m\u001b[0;34m\u001b[0m\u001b[0;34m\u001b[0m\u001b[0m\n\u001b[0m",
            "\u001b[0;31mTypeError\u001b[0m: 'tuple' object does not support item assignment"
          ]
        }
      ]
    },
    {
      "cell_type": "code",
      "metadata": {
        "id": "eP_D6q0cHPes",
        "colab_type": "code",
        "colab": {
          "base_uri": "https://localhost:8080/",
          "height": 35
        },
        "outputId": "4fb83b35-ee97-4401-9fb2-d1f32ade1957"
      },
      "source": [
        "persona = (\"Ana\",\"Paz\",35)\n",
        "print(persona)"
      ],
      "execution_count": 106,
      "outputs": [
        {
          "output_type": "stream",
          "text": [
            "('Ana', 'Paz', 35)\n"
          ],
          "name": "stdout"
        }
      ]
    },
    {
      "cell_type": "markdown",
      "metadata": {
        "id": "-x-7Gy4EHPeu",
        "colab_type": "text"
      },
      "source": [
        "Para definir una tupla de un solo elemento, es necesario especificar la coma separatoria, de lo contrario Python no permite su creación como tupla."
      ]
    },
    {
      "cell_type": "code",
      "metadata": {
        "id": "pFv_btbcHPeu",
        "colab_type": "code",
        "colab": {
          "base_uri": "https://localhost:8080/",
          "height": 87
        },
        "outputId": "1a618db8-7b50-49e9-f140-b2d54aaea43f"
      },
      "source": [
        "x = (45)\n",
        "print(x)\n",
        "print(type(x))\n",
        "x = (45,)\n",
        "print(x)\n",
        "print(type(x))"
      ],
      "execution_count": 107,
      "outputs": [
        {
          "output_type": "stream",
          "text": [
            "45\n",
            "<class 'int'>\n",
            "(45,)\n",
            "<class 'tuple'>\n"
          ],
          "name": "stdout"
        }
      ]
    },
    {
      "cell_type": "markdown",
      "metadata": {
        "id": "hydKviV4HPex",
        "colab_type": "text"
      },
      "source": [
        "Se pueden crear tuplas vacías."
      ]
    },
    {
      "cell_type": "code",
      "metadata": {
        "id": "vr8HBcxUHPex",
        "colab_type": "code",
        "colab": {
          "base_uri": "https://localhost:8080/",
          "height": 104
        },
        "outputId": "84b3ad98-ed24-4354-fffe-d3220ab810b8"
      },
      "source": [
        "z = ()\n",
        "print(z)\n",
        "print(len(z))\n",
        "print(len(x))\n",
        "print(len(tupla))\n",
        "print(len(persona))"
      ],
      "execution_count": 108,
      "outputs": [
        {
          "output_type": "stream",
          "text": [
            "()\n",
            "0\n",
            "1\n",
            "3\n",
            "3\n"
          ],
          "name": "stdout"
        }
      ]
    },
    {
      "cell_type": "markdown",
      "metadata": {
        "id": "aomXSYDYHPe5",
        "colab_type": "text"
      },
      "source": [
        "Los operadores de las listas también aplican a las tuplas."
      ]
    },
    {
      "cell_type": "code",
      "metadata": {
        "id": "m7RWzm7JHPe5",
        "colab_type": "code",
        "colab": {
          "base_uri": "https://localhost:8080/",
          "height": 52
        },
        "outputId": "05b73a3e-bf09-496c-e13a-9fcc20b7ba9a"
      },
      "source": [
        "print(tupla)\n",
        "tupla = tupla + (64, 82, 10)\n",
        "print(tupla)"
      ],
      "execution_count": 109,
      "outputs": [
        {
          "output_type": "stream",
          "text": [
            "(34, 56, 11)\n",
            "(34, 56, 11, 64, 82, 10)\n"
          ],
          "name": "stdout"
        }
      ]
    },
    {
      "cell_type": "markdown",
      "metadata": {
        "id": "v9X6owsdHPe9",
        "colab_type": "text"
      },
      "source": [
        "Se pueden tener tuplas de tuplas."
      ]
    },
    {
      "cell_type": "code",
      "metadata": {
        "id": "oTI2DE0EHPe-",
        "colab_type": "code",
        "colab": {
          "base_uri": "https://localhost:8080/",
          "height": 35
        },
        "outputId": "27ac87ba-3b33-4b67-e1cf-2f937ef89842"
      },
      "source": [
        "familia = (   \n",
        "    (\"Luis\",\"padre\",\"amarillo\"),\n",
        "    (\"Felipe\",\"hijo\",True),\n",
        "    (\"Doris\",\"prima\",[5,6,7,8],3.1)\n",
        ")\n",
        "print(familia)"
      ],
      "execution_count": 110,
      "outputs": [
        {
          "output_type": "stream",
          "text": [
            "(('Luis', 'padre', 'amarillo'), ('Felipe', 'hijo', True), ('Doris', 'prima', [5, 6, 7, 8], 3.1))\n"
          ],
          "name": "stdout"
        }
      ]
    },
    {
      "cell_type": "code",
      "metadata": {
        "id": "FRATxKG8HPfB",
        "colab_type": "code",
        "colab": {
          "base_uri": "https://localhost:8080/",
          "height": 52
        },
        "outputId": "e1394741-d825-4d32-e3a4-fd212bb227de"
      },
      "source": [
        "print(persona[1]); print(familia[2][2])"
      ],
      "execution_count": 111,
      "outputs": [
        {
          "output_type": "stream",
          "text": [
            "Paz\n",
            "[5, 6, 7, 8]\n"
          ],
          "name": "stdout"
        }
      ]
    },
    {
      "cell_type": "code",
      "metadata": {
        "id": "F_6N534bHPfI",
        "colab_type": "code",
        "colab": {
          "base_uri": "https://localhost:8080/",
          "height": 69
        },
        "outputId": "0dbd2990-2eb8-41c1-d655-59f6d39cc915"
      },
      "source": [
        "gastos = ([150,320,474],[42,86])\n",
        "print (gastos)\n",
        "\n",
        "gastos[0][0] = 210\n",
        "print(gastos)\n",
        "\n",
        "gastos[0].append(872)\n",
        "print(gastos)"
      ],
      "execution_count": 112,
      "outputs": [
        {
          "output_type": "stream",
          "text": [
            "([150, 320, 474], [42, 86])\n",
            "([210, 320, 474], [42, 86])\n",
            "([210, 320, 474, 872], [42, 86])\n"
          ],
          "name": "stdout"
        }
      ]
    },
    {
      "cell_type": "markdown",
      "metadata": {
        "id": "UZIndHyKHPfO",
        "colab_type": "text"
      },
      "source": [
        "Las tuplas permiten \"empacar\" y \"desempacar\" grupos de valores.\n",
        "Esto es útil cuando una función devuelve varios valores y permite no tener que utilizar índices específicos o un ciclo para asignarlos a variables de retorno."
      ]
    },
    {
      "cell_type": "code",
      "metadata": {
        "id": "IpVLFqQ5HPfP",
        "colab_type": "code",
        "colab": {
          "base_uri": "https://localhost:8080/",
          "height": 139
        },
        "outputId": "b998c8a6-cbae-47e8-e9a0-36d30966172e"
      },
      "source": [
        "x = 1,2,3,4 #packing\n",
        "print(x)\n",
        "a = \"AB\"\n",
        "b = \"CD\"\n",
        "c = \"EF\"\n",
        "z = a,b,c\n",
        "print(z)\n",
        "\n",
        "m,n,o,p = x #unpacking\n",
        "#m = x[0]; n = x[1]; o = x[2]; p = x[3]\n",
        "print(m,n,o,p)\n",
        "\n",
        "lista = ['a','b','c','d','e']\n",
        "print(lista)\n",
        "x1,x2,x3,x4,x5 = lista\n",
        "print(lista)\n",
        "print(x1,x2,x3,x4)\n",
        "tupla_de_lista = (x1,x2,x3,x4)\n",
        "print(tupla_de_lista)"
      ],
      "execution_count": 113,
      "outputs": [
        {
          "output_type": "stream",
          "text": [
            "(1, 2, 3, 4)\n",
            "('AB', 'CD', 'EF')\n",
            "1 2 3 4\n",
            "['a', 'b', 'c', 'd', 'e']\n",
            "['a', 'b', 'c', 'd', 'e']\n",
            "a b c d\n",
            "('a', 'b', 'c', 'd')\n"
          ],
          "name": "stdout"
        }
      ]
    },
    {
      "cell_type": "markdown",
      "metadata": {
        "id": "QFw04ZPmHPfZ",
        "colab_type": "text"
      },
      "source": [
        "# Conjuntos"
      ]
    },
    {
      "cell_type": "markdown",
      "metadata": {
        "id": "ZWHme6VvHPfa",
        "colab_type": "text"
      },
      "source": [
        "Los conjuntos son como las listas o tuplas, pero no pueden tener elementos repetidos.\n",
        "Además, no tienen un orden definido, por lo que no se puede acceder directamente a los elementos contenidos."
      ]
    },
    {
      "cell_type": "code",
      "metadata": {
        "id": "Gyjwg7EJHPfa",
        "colab_type": "code",
        "colab": {
          "base_uri": "https://localhost:8080/",
          "height": 35
        },
        "outputId": "2936a1da-3bbf-445c-c499-5bd419330e03"
      },
      "source": [
        "cesta = {\"Limón\",\"Mandarina\",\"Limón\",\"Piña\",\"Piña\",3, 1}\n",
        "print(cesta)"
      ],
      "execution_count": 114,
      "outputs": [
        {
          "output_type": "stream",
          "text": [
            "{1, 3, 'Piña', 'Mandarina', 'Limón'}\n"
          ],
          "name": "stdout"
        }
      ]
    },
    {
      "cell_type": "code",
      "metadata": {
        "id": "ztoUfwTRHPfc",
        "colab_type": "code",
        "colab": {
          "base_uri": "https://localhost:8080/",
          "height": 35
        },
        "outputId": "8fa64c4e-da68-44b0-f568-abae562ecff7"
      },
      "source": [
        "vacio = {}\n",
        "print(vacio)"
      ],
      "execution_count": 115,
      "outputs": [
        {
          "output_type": "stream",
          "text": [
            "{}\n"
          ],
          "name": "stdout"
        }
      ]
    },
    {
      "cell_type": "code",
      "metadata": {
        "id": "lYqrcmNKHPfe",
        "colab_type": "code",
        "colab": {
          "base_uri": "https://localhost:8080/",
          "height": 52
        },
        "outputId": "4d8c4c03-9866-4069-a66f-67b5a5cb2f82"
      },
      "source": [
        "print(\"Piña\" in cesta)\n",
        "print(\"Naranja\" in cesta)"
      ],
      "execution_count": 116,
      "outputs": [
        {
          "output_type": "stream",
          "text": [
            "True\n",
            "False\n"
          ],
          "name": "stdout"
        }
      ]
    },
    {
      "cell_type": "code",
      "metadata": {
        "id": "J-8DAAMVHPfi",
        "colab_type": "code",
        "colab": {
          "base_uri": "https://localhost:8080/",
          "height": 35
        },
        "outputId": "5cb05e61-2c0d-4d14-9455-d47f50cb448a"
      },
      "source": [
        "print(len(cesta))"
      ],
      "execution_count": 117,
      "outputs": [
        {
          "output_type": "stream",
          "text": [
            "5\n"
          ],
          "name": "stdout"
        }
      ]
    },
    {
      "cell_type": "code",
      "metadata": {
        "id": "zdJJn8BtHPfo",
        "colab_type": "code",
        "colab": {
          "base_uri": "https://localhost:8080/",
          "height": 35
        },
        "outputId": "62886a0c-c10c-4f5a-bced-31d6d1b0bd1f"
      },
      "source": [
        "letras = set(\"abcdefghijk\")\n",
        "print(letras)"
      ],
      "execution_count": 118,
      "outputs": [
        {
          "output_type": "stream",
          "text": [
            "{'a', 'd', 'k', 'e', 'g', 'c', 'b', 'i', 'j', 'f', 'h'}\n"
          ],
          "name": "stdout"
        }
      ]
    },
    {
      "cell_type": "code",
      "metadata": {
        "id": "ZPOCB1GZHPfq",
        "colab_type": "code",
        "colab": {
          "base_uri": "https://localhost:8080/",
          "height": 52
        },
        "outputId": "d1df9d37-60eb-4e71-d48c-4ba99e169ff4"
      },
      "source": [
        "codigos = set(range(30,98,4))\n",
        "print(codigos)\n",
        "codigos2 = list(range(30,98,4))\n",
        "print(codigos2)"
      ],
      "execution_count": 119,
      "outputs": [
        {
          "output_type": "stream",
          "text": [
            "{34, 66, 90, 38, 70, 42, 74, 46, 78, 50, 82, 54, 86, 62, 94, 58, 30}\n",
            "[30, 34, 38, 42, 46, 50, 54, 58, 62, 66, 70, 74, 78, 82, 86, 90, 94]\n"
          ],
          "name": "stdout"
        }
      ]
    },
    {
      "cell_type": "markdown",
      "metadata": {
        "id": "BUVpTvQPHPfs",
        "colab_type": "text"
      },
      "source": [
        "Se pueden realizar operaciones de conjuntos, como la intersección con el caracter \"&\", la unión con \"|\", la diferencia con \"-\", XOR con \"^\", evaluar si los elementos de un conjunto están dentro de otro con \">=\" o \"<=\"."
      ]
    },
    {
      "cell_type": "code",
      "metadata": {
        "id": "nYcgR4XjHPfs",
        "colab_type": "code",
        "colab": {
          "base_uri": "https://localhost:8080/",
          "height": 52
        },
        "outputId": "5e36b64c-38eb-4702-e1fc-145948fa0f19"
      },
      "source": [
        "A = set(\"abcdefghi\")\n",
        "B = set(\"acegijklm\")\n",
        "union = A|B\n",
        "print(union)\n",
        "interseccion = A&B\n",
        "print(interseccion)"
      ],
      "execution_count": 120,
      "outputs": [
        {
          "output_type": "stream",
          "text": [
            "{'m', 'a', 'd', 'k', 'e', 'g', 'c', 'b', 'i', 'j', 'f', 'l', 'h'}\n",
            "{'a', 'e', 'g', 'c', 'i'}\n"
          ],
          "name": "stdout"
        }
      ]
    },
    {
      "cell_type": "code",
      "metadata": {
        "id": "5NYgvp83HPfv",
        "colab_type": "code",
        "colab": {
          "base_uri": "https://localhost:8080/",
          "height": 69
        },
        "outputId": "fe5c935a-3917-496f-862c-dac01552c88d"
      },
      "source": [
        "print(set([1,2,3])^set([2,4]))\n",
        "xor = A^B\n",
        "print(xor)\n",
        "diferencia = A-B\n",
        "print(A)"
      ],
      "execution_count": 121,
      "outputs": [
        {
          "output_type": "stream",
          "text": [
            "{1, 3, 4}\n",
            "{'m', 'd', 'k', 'b', 'j', 'f', 'l', 'h'}\n",
            "{'a', 'd', 'e', 'g', 'c', 'b', 'i', 'f', 'h'}\n"
          ],
          "name": "stdout"
        }
      ]
    },
    {
      "cell_type": "code",
      "metadata": {
        "id": "LOW0jPwEHPfy",
        "colab_type": "code",
        "colab": {
          "base_uri": "https://localhost:8080/",
          "height": 35
        },
        "outputId": "8b7d8b44-c2d2-4767-fc6a-ed85198776cf"
      },
      "source": [
        "for elem in A:\n",
        "    print(elem,end=\" \")"
      ],
      "execution_count": 122,
      "outputs": [
        {
          "output_type": "stream",
          "text": [
            "a d e g c b i f h "
          ],
          "name": "stdout"
        }
      ]
    },
    {
      "cell_type": "markdown",
      "metadata": {
        "id": "8gf1QM7nHPfz",
        "colab_type": "text"
      },
      "source": [
        "# Diccionarios"
      ]
    },
    {
      "cell_type": "markdown",
      "metadata": {
        "id": "IL9BjwDnHPf0",
        "colab_type": "text"
      },
      "source": [
        "Los diccionarios son una estructura que agrupa mapeos de llaves con valores.\n",
        "Las llaves pueden ser cualquier tipo de datos inmutable: cadenas de caracteres, números o tuplas que contengan solo cadenas, números o tuplas pueden servir de llaves. "
      ]
    },
    {
      "cell_type": "code",
      "metadata": {
        "id": "N8mRR_gZHPf0",
        "colab_type": "code",
        "colab": {
          "base_uri": "https://localhost:8080/",
          "height": 139
        },
        "outputId": "d8ee71ad-1c36-420c-d6dd-e62cc5f6e4c3"
      },
      "source": [
        "casa = {\"color\":\"rojo\",\"area\":340}\n",
        "print(casa)\n",
        "print(casa[\"color\"])\n",
        "print(casa[\"area\"])\n",
        "print(list(casa))\n",
        "print(casa.items())\n",
        "print(\"area\" in casa)\n",
        "print(\"precio\" in casa)"
      ],
      "execution_count": 123,
      "outputs": [
        {
          "output_type": "stream",
          "text": [
            "{'color': 'rojo', 'area': 340}\n",
            "rojo\n",
            "340\n",
            "['color', 'area']\n",
            "dict_items([('color', 'rojo'), ('area', 340)])\n",
            "True\n",
            "False\n"
          ],
          "name": "stdout"
        }
      ]
    },
    {
      "cell_type": "markdown",
      "metadata": {
        "id": "y1fDLHKeHPgA",
        "colab_type": "text"
      },
      "source": [
        "Los diccionarios se pueden tomar como una estructura iterativa en un ciclo de **for**.\n",
        "Si se hace directamente, se itera sobre las llaves.\n",
        "Se puede iterar al mismo tiempo sobre llave y valor al utilizar su método **items()*."
      ]
    },
    {
      "cell_type": "code",
      "metadata": {
        "id": "5QvBuRJGHPgA",
        "colab_type": "code",
        "colab": {
          "base_uri": "https://localhost:8080/",
          "height": 139
        },
        "outputId": "f26ec445-da4a-45ca-f1e0-1c7a6e4d8cf0"
      },
      "source": [
        "salud = {\"peso\":62, \"altura\":1.72, \"edad\":28}\n",
        "for llave in salud:\n",
        "    print(llave, \":\", salud[llave], sep=\"\")    \n",
        "print()\n",
        "for llave, valor in salud.items():\n",
        "    print(llave, \":\", salud[llave], sep=\"\")    "
      ],
      "execution_count": 124,
      "outputs": [
        {
          "output_type": "stream",
          "text": [
            "peso:62\n",
            "altura:1.72\n",
            "edad:28\n",
            "\n",
            "peso:62\n",
            "altura:1.72\n",
            "edad:28\n"
          ],
          "name": "stdout"
        }
      ]
    },
    {
      "cell_type": "markdown",
      "metadata": {
        "id": "WOT07jF5HPgC",
        "colab_type": "text"
      },
      "source": [
        "Se puede definir un diccionario a través de una estructura de lista y tuplas."
      ]
    },
    {
      "cell_type": "code",
      "metadata": {
        "id": "acTrehmdHPgD",
        "colab_type": "code",
        "colab": {
          "base_uri": "https://localhost:8080/",
          "height": 52
        },
        "outputId": "ef369163-06fd-4c97-c041-341b22cc6822"
      },
      "source": [
        "producto = dict([(\"nombre\",\"silla\"),(\"precio\",24500.0),(\"cantidad\",12)])\n",
        "print(producto)\n",
        "producto[\"precio\"] = \"$\"+str(producto[\"precio\"])\n",
        "print(producto)"
      ],
      "execution_count": 125,
      "outputs": [
        {
          "output_type": "stream",
          "text": [
            "{'nombre': 'silla', 'precio': 24500.0, 'cantidad': 12}\n",
            "{'nombre': 'silla', 'precio': '$24500.0', 'cantidad': 12}\n"
          ],
          "name": "stdout"
        }
      ]
    },
    {
      "cell_type": "markdown",
      "metadata": {
        "id": "2XXDabjqHPgN",
        "colab_type": "text"
      },
      "source": [
        "# Funciones"
      ]
    },
    {
      "cell_type": "markdown",
      "metadata": {
        "id": "ylN1zPYMHPgO",
        "colab_type": "text"
      },
      "source": [
        "Se definen funciones con parámetros de entrada y un valor de salida. Este puede ser una tupla, de tal manera que se retornen varios valores a la vez, que pueden ser fácilmente \"desempaquetados\" al retorna del llamado a la función en cuestión."
      ]
    },
    {
      "cell_type": "code",
      "metadata": {
        "id": "BXLpbrfxHPgR",
        "colab_type": "code",
        "colab": {
          "base_uri": "https://localhost:8080/",
          "height": 69
        },
        "outputId": "7252432a-65b5-40bd-d282-29a8033026c1"
      },
      "source": [
        "def suma(x,y):\n",
        "    return x+y\n",
        "\n",
        "z = suma(5,3)\n",
        "print(z)\n",
        "\n",
        "a = suma(\"Hola \",\"Mundo!\")\n",
        "print(a)\n",
        "\n",
        "l = suma([2,7,9],[1,3,6,0])\n",
        "print(l)"
      ],
      "execution_count": 126,
      "outputs": [
        {
          "output_type": "stream",
          "text": [
            "8\n",
            "Hola Mundo!\n",
            "[2, 7, 9, 1, 3, 6, 0]\n"
          ],
          "name": "stdout"
        }
      ]
    },
    {
      "cell_type": "code",
      "metadata": {
        "id": "SQwDH_84HPgV",
        "colab_type": "code",
        "colab": {
          "base_uri": "https://localhost:8080/",
          "height": 35
        },
        "outputId": "b859e065-4dac-4914-9b8e-13809b351e8a"
      },
      "source": [
        "def siguientes2(x):\n",
        "    return (x+1, x+2)\n",
        "\n",
        "a=15\n",
        "(b, c) = siguientes2(a)\n",
        "print(\"los dos números que siguen a {} son: {} y {}\".format(a,b,c))"
      ],
      "execution_count": 127,
      "outputs": [
        {
          "output_type": "stream",
          "text": [
            "los dos números que siguen a 15 son: 16 y 17\n"
          ],
          "name": "stdout"
        }
      ]
    },
    {
      "cell_type": "markdown",
      "metadata": {
        "id": "H-SDgEdqHPgd",
        "colab_type": "text"
      },
      "source": [
        "# Ejercicio: Función de Fibonacci"
      ]
    },
    {
      "cell_type": "markdown",
      "metadata": {
        "id": "N3sbMz7AHPge",
        "colab_type": "text"
      },
      "source": [
        "Escriba un función que reciba un parámetro *x* y retorne la lista con los primeros *x* dígitos de la serie de Fibonacci"
      ]
    },
    {
      "cell_type": "code",
      "metadata": {
        "id": "p_hHsWsDxeXV",
        "colab_type": "code",
        "colab": {}
      },
      "source": [
        "def fibonacci(n, memory={}):\n",
        "  if n==0 or n==1:\n",
        "    return 1\n",
        "  try:\n",
        "    return memory[n]\n",
        "  except KeyError:\n",
        "    result = fibonacci(n-1, memory) + fibonacci(n-2, memory)\n",
        "    memory[n] = result\n",
        "    return result\n",
        "\n",
        "def get_fibonacci_numbers(x):\n",
        "  numbers = [0]\n",
        "  for i in range(x-1):\n",
        "    numbers.append(fibonacci(i))\n",
        "  return numbers"
      ],
      "execution_count": 128,
      "outputs": []
    },
    {
      "cell_type": "code",
      "metadata": {
        "id": "FfUzks21yKtx",
        "colab_type": "code",
        "colab": {
          "base_uri": "https://localhost:8080/",
          "height": 35
        },
        "outputId": "d8b66747-2fb6-4414-e0b8-a77ad6fb8822"
      },
      "source": [
        "get_fibonacci_numbers(15)"
      ],
      "execution_count": 129,
      "outputs": [
        {
          "output_type": "execute_result",
          "data": {
            "text/plain": [
              "[0, 1, 1, 2, 3, 5, 8, 13, 21, 34, 55, 89, 144, 233, 377]"
            ]
          },
          "metadata": {
            "tags": []
          },
          "execution_count": 129
        }
      ]
    },
    {
      "cell_type": "markdown",
      "metadata": {
        "id": "I8fmzBrhHPgg",
        "colab_type": "text"
      },
      "source": [
        "# Clases y objetos"
      ]
    },
    {
      "cell_type": "code",
      "metadata": {
        "id": "tg3Nat6lHPgh",
        "colab_type": "code",
        "colab": {
          "base_uri": "https://localhost:8080/",
          "height": 139
        },
        "outputId": "faf36d6c-9d8c-4ea6-c69c-46039dbfce73"
      },
      "source": [
        "class NumeroRacional:\n",
        "    def __init__(self, p, q):\n",
        "        self.p = p\n",
        "        self.q = q\n",
        "    \n",
        "    def calcularNumeroReal(self):\n",
        "        numero = self.p / self.q\n",
        "        return numero\n",
        "    \n",
        "    def imprimir(self):\n",
        "        print(\"%s/%s\"%(self.p,self.q))\n",
        "\n",
        "x = NumeroRacional(3,8)\n",
        "y = NumeroRacional(1,2)\n",
        "z = NumeroRacional(5,4)\n",
        "\n",
        "print(x.calcularNumeroReal())\n",
        "print(y.calcularNumeroReal())\n",
        "print(z.calcularNumeroReal())\n",
        "\n",
        "print()\n",
        "\n",
        "x.imprimir()\n",
        "y.imprimir()\n",
        "z.imprimir()\n"
      ],
      "execution_count": 130,
      "outputs": [
        {
          "output_type": "stream",
          "text": [
            "0.375\n",
            "0.5\n",
            "1.25\n",
            "\n",
            "3/8\n",
            "1/2\n",
            "5/4\n"
          ],
          "name": "stdout"
        }
      ]
    }
  ]
}