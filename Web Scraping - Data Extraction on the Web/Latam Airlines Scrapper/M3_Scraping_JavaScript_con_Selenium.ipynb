{
  "nbformat": 4,
  "nbformat_minor": 0,
  "metadata": {
    "colab": {
      "name": "3. Scraping JavaScript con Selenium",
      "provenance": [],
      "collapsed_sections": []
    },
    "kernelspec": {
      "name": "python3",
      "display_name": "Python 3"
    }
  },
  "cells": [
    {
      "cell_type": "markdown",
      "metadata": {
        "id": "AnLZh8KQ5Q9U",
        "colab_type": "text"
      },
      "source": [
        "\n",
        "# Módulo 2: Scraping con Selenium\n",
        "## LATAM Airlines\n",
        "\n",
        "<a href=\"https://www.latam.com/es_ar/\\\"> \n",
        "<img src=\"https://i.pinimg.com/originals/dd/52/74/dd5274702d1382d696caeb6e0f6980c5.png\" width=\"420\"></img>\n",
        "</a><br>\n",
        "\n",
        "Vamos a scrapear el sitio de Latam para averiguar datos de vuelos en funcion el origen y destino, fecha y cabina. La información que esperamos obtener de cada vuelo es:\n",
        "\n",
        "* Precio(s) disponibles\n",
        "* Horas de salida y llegada (duración)\n",
        "* Información de las escalas\n",
        "¡Empecemos! Utilicemos lo aprendido hasta ahora para lograr el objetivo propuesto\n",
        "\n"
      ]
    },
    {
      "cell_type": "code",
      "metadata": {
        "id": "ory8RiWi4kLo",
        "colab_type": "code",
        "colab": {}
      },
      "source": [
        "import requests\n",
        "from bs4 import BeautifulSoup"
      ],
      "execution_count": 0,
      "outputs": []
    },
    {
      "cell_type": "code",
      "metadata": {
        "id": "Clv4tSxS7eDj",
        "colab_type": "code",
        "colab": {}
      },
      "source": [
        "url = 'https://www.latam.com/es_co/apps/personas/booking?fecha1_dia=01&fecha1_anomes=2020-07&from_city1=BOG&to_city1=CLO&ida_vuelta=ida&cabina=W&nadults=1&nchildren=0&ninfants=0&app=deal-finder#/'"
      ],
      "execution_count": 0,
      "outputs": []
    },
    {
      "cell_type": "code",
      "metadata": {
        "id": "duEqMa-F7liC",
        "colab_type": "code",
        "colab": {
          "base_uri": "https://localhost:8080/",
          "height": 34
        },
        "outputId": "b954be31-0275-4e71-e7ad-5c9fc0fddd62"
      },
      "source": [
        "request = requests.get(url)\n",
        "request.status_code"
      ],
      "execution_count": 20,
      "outputs": [
        {
          "output_type": "execute_result",
          "data": {
            "text/plain": [
              "200"
            ]
          },
          "metadata": {
            "tags": []
          },
          "execution_count": 20
        }
      ]
    },
    {
      "cell_type": "code",
      "metadata": {
        "id": "d7L9H-4n7rdX",
        "colab_type": "code",
        "colab": {}
      },
      "source": [
        "soup = BeautifulSoup(request.text, 'lxml')"
      ],
      "execution_count": 0,
      "outputs": []
    },
    {
      "cell_type": "code",
      "metadata": {
        "id": "NhiYjgHl7yrP",
        "colab_type": "code",
        "colab": {
          "base_uri": "https://localhost:8080/",
          "height": 1000
        },
        "outputId": "7f04803a-0344-4730-ceb5-ba8240f89ece"
      },
      "source": [
        "print(soup.prettify())"
      ],
      "execution_count": 22,
      "outputs": [
        {
          "output_type": "stream",
          "text": [
            "<!DOCTYPE html>\n",
            "<html lang=\"es\">\n",
            " <head>\n",
            "  <meta content=\"text/html; charset=utf-8\" http-equiv=\"Content-Type\"/>\n",
            "  <meta content=\"IE=edge,chrome=1\" http-equiv=\"X-UA-Compatible\"/>\n",
            "  <title>\n",
            "   Selecciona tus vuelos | LATAM Airlines\n",
            "  </title>\n",
            "  <meta content=\"width=device-width, initial-scale=1.0\" name=\"viewport\"/>\n",
            "  <link href=\"https://s.latamstatic.com/static/latam/images/favicon/LATAM/favicon.ico\" rel=\"shortcut icon\" type=\"image/x-icon\"/>\n",
            "  <meta content=\"personas_bs3_latam_mu\" name=\"layout\"/>\n",
            "  <meta content=\"LATAM.com\" name=\"description\"/>\n",
            "  <meta content=\"LATAM.com\" name=\"keywords\"/>\n",
            "  <script src=\"https://www.pontosmultiplus.com.br/cestaautenticacao/app/multiplus-sdk.js\" type=\"text/javascript\">\n",
            "  </script>\n",
            "  <meta content=\"DD755E358AE0730E63D5C97A163CB111\" name=\"sessionId\" scheme=\"tracker\"/>\n",
            "  <meta content=\"latam\" name=\"matchedScenario\" scheme=\"tracker\"/>\n",
            "  <meta content=\"personas_bs3_latam_mu\" name=\"template\" scheme=\"tracker\"/>\n",
            "  <meta content=\"null\" name=\"userDataCookieRawData\" scheme=\"tracker\"/>\n",
            "  <meta content=\"3.0.59\" name=\"appVersion\" scheme=\"tracker\"/>\n",
            "  <style>\n",
            "   .async-hide{opacity:0!important}\n",
            "  </style>\n",
            "  <script>\n",
            "   (function(a,s,y,n,c,h,i,d,e){s.className+=' '+y;h.start=1*new Date;h.end=i=function(){s.className=s.className.replace(RegExp(' ?'+y),'')};(a[n]=a[n]||[]).hide=h;setTimeout(function(){i();h.end=null},c);h.timeout=c;})(window,document.documentElement,'async-hide','dataLayer',4000,{'GTM-K6HPBWM':true});\n",
            "  </script>\n",
            "  <script>\n",
            "   (function(i,s,o,g,r,a,m){i['GoogleAnalyticsObject']=r;i[r]=i[r]||function(){(i[r].q=i[r].q||[]).push(arguments)},i[r].l=1*new Date();a=s.createElement(o),m=s.getElementsByTagName(o)[0];a.async=1;a.src=g;m.parentNode.insertBefore(a,m)})(window,document,'script','https://www.google-analytics.com/analytics.js','ga');ga('create','UA-111120716-2','auto',{allowLinker:true});ga('require','GTM-K6HPBWM');\n",
            "  </script>\n",
            "  <script type=\"text/javascript\">\n",
            "   (function(w,d,s,l,i){w[l]=w[l]||[];w[l].push({'gtm.start':new Date().getTime(),event:'gtm.js'});var f=d.getElementsByTagName(s)[0],j=d.createElement(s),dl=l!='dataLayer'?'&l='+l:'';j.async=true;j.src='//www.googletagmanager.com/gtm.js?id='+i+dl;f.parentNode.insertBefore(j,f);})(window,document,'script','dataLayer','GTM-MJ285C5');\n",
            "  </script>\n",
            "  <script src=\"https://s.latamstatic.com/js/libs/external/modernizr/2.6.2/modernizr.custom.js\" type=\"text/javascript\">\n",
            "  </script>\n",
            "  <!--[if lt IE 9]>\n",
            "\t      <script src=\"/js/libs/external/compatibility/shiv/3.7.0/html5shiv.js\"></script>\n",
            "  <![endif]-->\n",
            "  <!--[if lt IE 9]>\n",
            "\t      <script src=\"/js/libs/external/respond/1.4.2/respond.min.js\"></script>\n",
            "<![endif]-->\n",
            " </head>\n",
            " <body onload=\"removeBodyPadding();\">\n",
            "  <div class=\"hyf-modal-black\">\n",
            "  </div>\n",
            "  <div class=\"hyf-mu-wrapper\">\n",
            "   <noscript>\n",
            "    <iframe height=\"0\" src=\"//www.googletagmanager.com/ns.html?id=GTM-MJ285C5\" style=\"display: none; visibility: hidden\" width=\"0\">\n",
            "    </iframe>\n",
            "   </noscript>\n",
            "   <style id=\"styleHeaderLatam\">\n",
            "    /* style fixes */\n",
            "html {margin:0;padding:0;min-height:100%;position:relative}\n",
            "body {margin:0;padding:0;}\n",
            "a > [class^=\"icon-\"], a > [class*=\"icon-\"] {\n",
            "    margin: 5px 22px 0 0;\n",
            "}\n",
            ".hyf-modal-black{display:none;opacity: 1;background-color: rgba(0,0,0,0.8);position: fixed;top: 0;left: 0;right: 0;bottom: 0;margin: 0;z-index: 99999999998;-webkit-transition: all 1s;-moz-transition: all 1s;transition: all 1s;}\n",
            ".hyf-not-underline {text-decoration: none}\n",
            ".hyf-icon-clear{float:none;margin:0}\n",
            "/* style fixes */\n",
            "\n",
            ".hyf-mobile-view {height:100%;overflow:hidden}\n",
            ".hyf_mu_wrapper,.hyf_mu_header,.hyf-mu-content,.hyf-mu-footer {padding:0;margin:0;}\n",
            ".hyf_mu_wrapper {min-height:100%;position:relative;}\n",
            ".hyf-mu-header {position:relative;}\n",
            "@media(min-width: 768px){ .hyf-mu-header {position: fixed;top: 0;width: 100%;z-index: 100;} #appMain {margin-top: 36px;} }\n",
            ".hyf-mu-header-container {height:36px;background-color:#1B0088;position:relative;font-family: 'Latam-Sans-Regular'}\n",
            ".hyf-mu-content {}\n",
            ".hyf-mu-footer {background:#1B0088;width:100%;position:absolute;bottom:0;left:0;}\n",
            "\n",
            ".hyf-goleft {position:relative;float:left;}\n",
            ".hyf-alleft {text-align: left}\n",
            ".hyf-goright {position:relative;float:right;}\n",
            ".hyf-alright {text-align: right}\n",
            ".hyf-container{max-width:960px;margin:0 auto;position:relative;}\n",
            ".hyf-goup {text-transform:uppercase;}\n",
            ".hyf-col-25 {width:25%;float:left;}\n",
            ".hyf-col-100 {width:100%;float:left;}\n",
            "\n",
            "/* Objetos */\n",
            ".hyf-header-section{height:36px;font-size:1em;}\n",
            ".hyf-header-section .hyf-header-element{vertical-align: middle;padding:8px 0px;text-decoration: none;color:#b8b8b8;margin: 0px 5px;border: none;top:6px;position: relative;}\n",
            ".hyf-contry-ul li a:focus {outline:#1B0088 auto 2px;}\n",
            ".hyf-header-section .hyf-header-element span {padding-top: 5px;margin:0;color:#ffffff}\n",
            ".hyf-header-section .hyf-header-element.hyf-goup.hyf-pais-show:hover {background-color:#f3f3f3;color:#1B0088}\n",
            ".hyf-header-section .hyf-header-element.hyf-goup.hyf-pais-hide {background-color:rgb(243,243,243);background-color:rgba(243,243,243,97);color:#1B0088;}\n",
            ".hyf-header-section .hyf-header-element.hyf-goup.hyf-pais-hide:focus {border:none;}\n",
            ".hyf-header-section .hyf-header-element.hyf-login {display:none;text-align: left;text-decoration:none;font-size:14px;font-family: 'Latam-Sans-Regular', arial, sans-serif;border:0;color:#fff;padding:0 0 0 40px;}\n",
            ".hyf-header-section .hyf-header-element.hyf-login span{color:#fff;text-decoration: none}\n",
            ".hyf-header-section .hyf-header-element.hyf-login span:hover{text-decoration: none}\n",
            ".hyf-header-section .hyf-header-element a.hyf-login:hover {background-color:#ed1650;text-decoration:none}\n",
            ".hyf-login-info {position:absolute;margin-left:-40px;background-color:#fff;padding: 10px 25px 20px 25px;border-bottom-left-radius: 5px;width:100%;border-bottom-right-radius: 5px;border-top-left-radius: 0;border-top-right-radius: 0;border: 1px solid #bfbfbf;color:#666666;z-index:2;display:none}\n",
            ".hyf-login-info a {display:block;margin:6px 0;color:#666666;text-decoration: none;font-family: 'Latam-Sans-Bold'}\n",
            ".hyf-login-info a:hover {text-decoration: underline}\n",
            ".hyf-login-info a:last-child {text-align: right;margin-top: 15px;margin-bottom: 0px;border-top: 2px solid #b30f3b;padding-top: 10px;}\n",
            ".hyf-login-link {color:white;text-decoration: none}\n",
            ".hyf-login-text {max-width:223px;overflow:hidden;text-overflow:ellipsis;white-space: nowrap}\n",
            "#hyf-icon-log-icon,#hyf-icon-log-iconi {margin: -5px -28px -13px -45px;color: #fff;}\n",
            "#hyf-icon-log-caret {float:right;margin:10px 5px;color:#fff}\n",
            "\n",
            ".hyf-country-selector {position:absolute;overflow: hidden;border:1px solid #f3f3f3;\n",
            "    border-radius: 0 0 1px 1px;padding:10px 15px;color:#666666;text-align: left;z-index: 99999999999;max-width:930px;box-sizing: border-box;\n",
            "    -webkit-box-shadow: 0 1px 1.68px 1.32px rgba(0,2,0,0.5);\n",
            "    -moz-box-shadow: 0 1px 1.68px 1.32px rgba(0,2,0,0.5);\n",
            "    box-shadow: 0 1px 1.68px 1.32px rgba(0,2,0,0.5);\n",
            "}\n",
            ".hyf-country-selector ul {list-style:none;margin:0;padding:0}\n",
            ".hyf-country-selector ul li{list-style:none;margin:0 0 10px 0;padding:0;font-size:1em;}\n",
            ".hyf-country-selector .hyf-country-selector-title {font-size:1em;font-family:'Latam-Sans-Bold';margin-top:10px;margin-bottom: 11px}\n",
            ".hyf-logo {padding:0;height:70px;line-height:80px;margin-top:20px;margin-bottom: 20px;position:relative;}\n",
            ".hyf-logo a{position:relative;margin-right:42px}\n",
            ".hyf-header-section .hyf-header-element.Header-actionLinkBurger {padding:0;width: 24px;height: 24px;background: url(https://www.latam.com/static/latam/images/content-image/header/icn-burger.svg) no-repeat center center;}\n",
            ".hyf-header-section .hyf-header-element.Header-userLink{padding:0;width: 24px;height: 24px;float: none;top: 0px;right: 20px;}\n",
            "/** focos **/\n",
            ".hyf-only-focusable {position: absolute;width: 1px;height: 1px;padding: 0; margin: -1px;overflow: hidden;clip: rect(0,0,0,0);border: 0;}\n",
            ".hyf-only-focusable:focus {position:relative;width:auto;height: auto;overflow:hidden;clip: auto;display:inline-block;background-color:#fff; color: #1B0088;margin:5px;outline: 2px solid #1B0088;outline-offset:0px;}\n",
            ".text-skip-to-main-content{margin:0;}\n",
            ".hyf-header-section .hyf-header-element:focus{outline:2px solid #b8b8b8;outline-offset:0px;}\n",
            ".hyf-logo a:focus {outline:2px solid #1B0088;}\n",
            ".hyf-logoLink {position:absolute;top:5px;left:5px;}\n",
            ".hyf-logoLink:focus  {outline:2px solid #b8b8b8;outline-offset:0}\n",
            ".hyf-logoOneWorldLink {position:absolute;top:5px;left:100px;}\n",
            ".hyf-logoOneWorldLink:focus  {outline:2px solid #b8b8b8;outline-offset:0}\n",
            "#mobileHeader {background-color:#1B0088;border-bottom-color: #b8b8b8;font-family: 'Latam-Sans-Regular';color:#fff;font-size:14px;height:50px;padding-top:10px;position:relative;}\n",
            "#mobileTitle {font-size: 25px;font-weight: 700;margin:0;text-align: center;color:#fff}\n",
            ".hyf-returnLink {float:left;}\n",
            "#hyf-returnLink:focus {outline:2px solid #b8b8b8;outline-offset:0}\n",
            ".hyf-cs-div {background-color:white;position:absolute;height:80px;top:0;left:0px;width:100%;padding:10px;overflow:hidden;}\n",
            ".hyf-cs-div a {width:100%;display:block;margin:10px 5px;text-decoration: none;color:#666666}\n",
            ".hyf-cs-margin {position:relative;height:60px}\n",
            "#hideMenu,#hyf-country-selector{display: none;}\n",
            "a.hyf-login-link {outline: none;text-decoration: none}\n",
            "\n",
            "/* BANDERAS */\n",
            ".lt-icon-flag {background-image: url(https://www.latam.com/static/latam/images/design-image/sprites/icon-sprite.png);float:left;margin:5px 22px 0 0;}\n",
            "\n",
            ".lt-icon-ar-small { background-position: -85px -120px;  width: 17px;  height: 11px;}\n",
            ".lt-icon-ar {  background-position: 0px -100px;  width: 30px;  height: 20px;}\n",
            ".lt-icon-au-small {  background-position: -51px -120px;  width: 17px;  height: 11px;}\n",
            ".lt-icon-au {  background-position: -30px -20px;  width: 30px;  height: 20px;}\n",
            ".lt-icon-br-small {  background-position: -17px -120px;  width: 17px;  height: 11px;}\n",
            ".lt-icon-br {  background-position: -30px -40px;  width: 30px;  height: 20px;}\n",
            ".lt-icon-ca-small {  background-position: -120px -99px;  width: 17px;  height: 11px;}\n",
            ".lt-icon-ca {  background-position: -60px -20px;  width: 30px;  height: 20px;}\n",
            ".lt-icon-cl-small {  background-position: -120px -77px;  width: 17px;  height: 11px;}\n",
            ".lt-icon-cl {  background-position: 0px -60px;  width: 30px;  height: 20px;}\n",
            ".lt-icon-co-small {  background-position: -30px -100px;  width: 17px;  height: 11px;}\n",
            ".lt-icon-co {  background-position: -60px -60px;  width: 30px;  height: 20px;}\n",
            ".lt-icon-de-small {  background-position: -120px -33px;  width: 17px;  height: 11px;}\n",
            ".lt-icon-de {  background-position: -90px -20px;  width: 30px;  height: 20px;}\n",
            ".lt-icon-ec-small {  background-position: -120px -11px;  width: 17px;  height: 11px;}\n",
            ".lt-icon-ec {  background-position: -90px -60px;  width: 30px;  height: 20px;}\n",
            ".lt-icon-es-small {  background-position: -98px -100px;  width: 17px;  height: 11px;}\n",
            ".lt-icon-es {  background-position: -30px -80px;  width: 30px;  height: 20px;}\n",
            ".lt-icon-eu-small {  background-position: -64px -100px;  width: 17px;  height: 11px;}\n",
            ".lt-icon-eu {  background-position: -90px -80px;  width: 30px;  height: 20px;}\n",
            ".lt-icon-fr-small {  background-position: -47px -100px;  width: 17px;  height: 11px;}\n",
            ".lt-icon-fr {  background-position: 0px 0px;  width: 30px;  height: 20px;}\n",
            ".lt-icon-it-small {  background-position: -120px -55px;  width: 17px;  height: 11px;}\n",
            ".lt-icon-it {  background-position: -60px -80px;  width: 30px;  height: 20px;}\n",
            ".lt-icon-mx-small {  background-position: -81px -100px;  width: 17px;  height: 11px;}\n",
            ".lt-icon-mx {  background-position: 0px -80px;  width: 30px;  height: 20px;}\n",
            ".lt-icon-nz-small {  background-position: -120px 0px;  width: 17px;  height: 11px;}\n",
            ".lt-icon-nz {  background-position: -90px -40px;  width: 30px;  height: 20px;}\n",
            ".lt-icon-otros_paises-small {  background-position: -120px -22px;  width: 17px;  height: 11px;}\n",
            ".lt-icon-otros_paises {  background-position: -90px 0px;  width: 30px;  height: 20px;}\n",
            ".lt-icon-pe-small {  background-position: -120px -44px;  width: 17px;  height: 11px;}\n",
            ".lt-icon-pe {  background-position: -30px -60px;  width: 30px;  height: 20px;}\n",
            ".lt-icon-pr-small {  background-position: -120px -66px;  width: 17px;  height: 11px;}\n",
            ".lt-icon-pr {  background-position: -60px -40px;  width: 30px;  height: 20px;}\n",
            ".lt-icon-sa-small {  background-position: -120px -88px;  width: 17px;  height: 11px;}\n",
            ".lt-icon-sa {  background-position: -60px 0px;  width: 30px;  height: 20px;}\n",
            ".lt-icon-ue-small {  background-position: 0px -120px;  width: 17px;  height: 11px;}\n",
            ".lt-icon-ue {  background-position: 0px -40px;  width: 30px;  height: 20px;}\n",
            ".lt-icon-uk-small {  background-position: -34px -120px;  width: 17px;  height: 11px;}\n",
            ".lt-icon-uk {  background-position: 0px -20px;  width: 30px;  height: 20px;}\n",
            ".lt-icon-uy-small {  background-position: -68px -120px;  width: 17px;  height: 11px;}\n",
            ".lt-icon-uy {  background-position: -30px 0px;  width: 30px;  height: 20px;}\n",
            "\n",
            "/*clases para ocultar*/\n",
            "\n",
            "/* Custom, iPhone Retina */\n",
            "@media only screen and (max-width : 319px){\n",
            "    .hyf-visible-xs{display: inline;} .hyf-hidden-xs{display: none;} .hyf-visibleb-xs{display: block;} .hyf-visibleib-xs{display:inline-block;}\n",
            "    .hyf-col-25 {width:100%;} .hyf-flag-centrado {display:block;padding-top: 6px}\n",
            "    .hyf-mu-content {padding-bottom:135px;}\n",
            "    .hyf-mu-footer {height:135px;}\n",
            "    .hyf-contry-ul li a {display:inline;}\n",
            "    .hyf-country-selector{margin-top: -36px;width:85%;right:0px;background-color:#e5e5e5;}\n",
            "    #hyf-icon-log-caret {display:none}\n",
            "    #hyf-icon-log-iconi {display: block}\n",
            "    #hyf-icon-log-icon.isLoggedIn {color:#b30f3b}\n",
            "    .hyf-header-section .hyf-header-element.hyf-login {background-color: transparent}\n",
            "}\n",
            "@media only screen and (min-width : 320px){\n",
            "    .hyf-visible-xs{display: inline;} .hyf-hidden-xs{display: none;}.hyf-visibleb-xs{display: block;} .hyf-visibleib-xs{display:inline-block;}\n",
            "    .hyf-col-25 {width:100%;} .hyf-flag-centrado {display:block;padding-top: 6px}\n",
            "    .hyf-mu-content {padding-bottom:135px;}\n",
            "    .hyf-mu-footer {height:135px;}\n",
            "    .hyf-contry-ul li a {display:inline;}\n",
            "    .hyf-country-selector{margin-top: -36px;width:85%;right:0px;background-color:#e5e5e5;}\n",
            "    #hyf-icon-log-caret {display:none}\n",
            "    #hyf-icon-log-iconi {display: block}\n",
            "    #hyf-icon-log-icon.isLoggedIn {color:#b30f3b}\n",
            "    .hyf-header-section .hyf-header-element.hyf-login {background-color: transparent}\n",
            "}\n",
            "/* Extra Small Devices, Phones */\n",
            "@media only screen and (min-width : 480px){\n",
            "    .hyf-visible-xs{display: inline;} .hyf-hidden-xs{display: none;} .hyf-visibleb-xs{display: block;} .hyf-visibleib-xs{display:inline-block;}\n",
            "    .hyf-col-25 {width:100%;} .hyf-flag-centrado {display:block;padding-top: 6px}\n",
            "    .hyf-mu-content {padding-bottom:135px;}\n",
            "    .hyf-mu-footer {height:135px;}\n",
            "    .hyf-contry-ul li a {display:inline;}\n",
            "    .hyf-country-selector{margin-top: -36px;width:85%;right:0px;background-color:#e5e5e5;}\n",
            "    #hyf-icon-log-caret {display:none}\n",
            "    #hyf-icon-log-iconi {display: block}\n",
            "    #hyf-icon-log-icon.isLoggedIn {color:#b30f3b}\n",
            "    .hyf-header-section .hyf-header-element.hyf-login {background-color: transparent}\n",
            "}\n",
            "/* Small Devices, Tablets */\n",
            "@media only screen and (min-width : 768px){\n",
            "    .hyf-visible-sm{display: inline;} .hyf-hidden-sm{display: none;} .hyf-visibleb-sm{display: block;}\n",
            "    .hyf-col-25 {width:25%;} .hyf-flag-centrado {display:inline;padding:0;}\n",
            "    .hyf-mu-content {padding-bottom:76px;}\n",
            "    .hyf-mu-footer {height:76px;}\n",
            "    .hyf-contry-ul li a {display:inline-block;}\n",
            "    #hyf-icon-log-caret {display:inline-table}\n",
            "    #hyf-icon-log-icon.isLoggedIn {color:#fff}\n",
            "    #hyf-icon-log-iconi {display: none}\n",
            "    .hyf-country-selector{margin-top:0px;width:100%;background-color:rgb(243,243,243);background-color:rgba(243,243,243,97);}\n",
            "    .hyf-header-section .hyf-header-element.hyf-login {background-color: #b30f3b}\n",
            "}\n",
            "/* Medium Devices, Desktops */\n",
            "@media only screen and (min-width : 992px){\n",
            "    .hyf-visible-md{display: inline;} .hyf-hidden-md{display: none;} .hyf-visibleb-md{display: block;}\n",
            "    .hyf-col-25 {width:25%;} .hyf-flag-centrado {display:inline;padding:0;}\n",
            "    .hyf-mu-content {padding-bottom:76px;}\n",
            "    .hyf-mu-footer {height:76px;}\n",
            "    .hyf-contry-ul li a {display:inline-block;}\n",
            "    #hyf-icon-log-caret {display:inline-table}\n",
            "    #hyf-icon-log-icon.isLoggedIn {color:#fff}\n",
            "    .hyf-country-selector{margin-top:0px;width:100%;background-color:rgb(243,243,243);background-color:rgba(243,243,243,97);}\n",
            "    #hyf-icon-log-iconi {display: none}\n",
            "    .hyf-header-section .hyf-header-element.hyf-login {background-color: #b30f3b}\n",
            "}\n",
            "/* Large Devices, Wide Screens */\n",
            "@media only screen and (min-width : 1200px){\n",
            "    .hyf-visible-lg{display: inline;} .hyf-hidden-lg{display: none;} .hyf-visibleb-md{display: block;}\n",
            "    .hyf-col-25 {width:25%;} .hyf-flag-centrado {display:inline;padding:0;}\n",
            "    .hyf-mu-content {padding-bottom:76px;}\n",
            "    .hyf-mu-footer {height:76px;}\n",
            "    .hyf-contry-ul li a {display:inline-block;}\n",
            "    #hyf-icon-log-caret {display:inline-table}\n",
            "    #hyf-icon-log-icon.isLoggedIn {color:#fff}\n",
            "    #hyf-icon-log-iconi {display: none}\n",
            "    .hyf-country-selector{margin-top:0px;width:100%;background-color:rgb(243,243,243);background-color:rgba(243,243,243,97);}\n",
            "    .hyf-header-section .hyf-header-element.hyf-login {background-color: #b30f3b}\n",
            "}\n",
            "   </style>\n",
            "   <div class=\"hyf-mu-header\" id=\"hyfLatam\" role=\"banner\" style=\"display:none\">\n",
            "    <div class=\"hyf-container\" role=\"application\">\n",
            "     <a class=\"hyf-only-focusable\" href=\"#appMain\" onkeydown=\"skipToMainContent(event);\" title=\"Ir al contenido principal\">\n",
            "      <span class=\"text-skip-to-main-content\">\n",
            "       Ir al contenido principal\n",
            "      </span>\n",
            "     </a>\n",
            "    </div>\n",
            "    <nav class=\"hyf-mu-header-container\" role=\"navigation\">\n",
            "     <section class=\"hyf-container hyf-header-section\">\n",
            "      <div class=\"hyf-goleft\">\n",
            "       <a class=\"hyf-header-element hyf-hidden-xs hyf-visible-sm hyf-visible-md hyf-visible-lg\" href=\"https://www.latam.com\">\n",
            "        <img alt=\"LATAM Logo\" class=\"Header-logoImg\" height=\"25px\" src=\"https://s.latamstatic.com/etc.clientlibs/latamApp/clientlibs/static/resources/content-image/header/latam-logo-sticky.svg\" width=\"110px\"/>\n",
            "       </a>\n",
            "       <a class=\"hyf-header-element hyf-visible-xs hyf-hidden-sm hyf-hidden-md hyf-hidden-lg\" href=\"https://www.latam.com\">\n",
            "        <img alt=\"LATAM Logo\" height=\"28px\" src=\"https://s.latamstatic.com/etc.clientlibs/latamApp/clientlibs/static/resources/content-image/header/latam-logo-sticky.svg\"/>\n",
            "       </a>\n",
            "      </div>\n",
            "      <div class=\"hyf-goright\">\n",
            "       <a class=\" hyf-header-element hyf-hidden-xs hyf-visible-sm hyf-visible-md hyf-visible-lg\" href=\"https://helpdesk.latam.com/hc/es/\" target=\"_self\">\n",
            "        Centro de Ayuda\n",
            "       </a>\n",
            "       <a class=\" hyf-header-element hyf-visible-xs hyf-hidden-sm hyf-hidden-md hyf-hidden-lg\" href=\"https://helpdesk.latam.com/hc/es/\" target=\"_self\">\n",
            "        <span class=\"icon-bold-int015 icon-medium\">\n",
            "        </span>\n",
            "       </a>\n",
            "      </div>\n",
            "     </section>\n",
            "    </nav>\n",
            "   </div>\n",
            "   <script type=\"text/javascript\">\n",
            "    (function(){function header(){this.homesMultiplus=[];this.appsMultiplus=[];};header.prototype={cleanSelector:function(selector){selector.forEach(function(select){document.querySelector(select).removeAttribute(\"style\");});},removeStyles:function(selectors){selectors.forEach(function(select){document.querySelector(select).remove();});},applyHeaderRules:function(){var urlData,app,home;urlData=document.location.pathname;urlData=urlData.split(\"/\");app=urlData[4];home=urlData[1];this.cleanSelector([\"#hyfLatam\"]);}};var header=new header();header.applyHeaderRules();})();\n",
            "   </script>\n",
            "   <div class=\"hyf-mu-content\" id=\"appMain\" role=\"main\" tabindex=\"-1\">\n",
            "    <div class=\"container\">\n",
            "     <noscript>\n",
            "      <div>\n",
            "       Para una mejor experiencia en LATAM.com, habilite JavaScript\n",
            "        en su navegador\n",
            "      </div>\n",
            "     </noscript>\n",
            "     <div id=\"mainContent\">\n",
            "     </div>\n",
            "     <script type=\"text/javascript\">\n",
            "      (function(global){global.LAN=global.LAN?global.LAN:{};})(this);LAN.Environment={env:'production',jsLibBaseUrl:'/js/libs/',cssBaseUrl:'/',lastDirectRequest:'2020-05-22T15:51:04+0000',dictionary:true,debug:false,home:'es_co',site:'lan',country:'CO',language:'ES',portal:'personas',application:'booking',step:'',appDist:'dist',jsAppBaseUrl:'/apps/booking/1.12.11/',appMainContent:'mainContent'};LAN.Configuration={'baseUrlBff':'https://bff.latam.com','baseUrlLan':'https://www.lan.com','baseUrlLegacy':'https://booking.lan.com','baseUrlLegacySSL':'https://ssl.lan.com','baseUrlUsablenet':'https://m.latam.com','urlHome':'https://www.latam.com','enabledDomains':'.*','defaultProtocol':'http','theme':''};\n",
            "     </script>\n",
            "     <script src=\"https://s.latamstatic.com/js/libs/external/require/2.1.8/require.js\" type=\"text/javascript\">\n",
            "     </script>\n",
            "     <script src=\"https://s.latamstatic.com/js/libs/lan/utils/requireConfig/2.1/requireConfig.min.js\" type=\"text/javascript\">\n",
            "     </script>\n",
            "     <script src=\"https://s.latamstatic.com/apps/booking/1.12.11/dist/js/booking.config.js\" type=\"text/javascript\">\n",
            "     </script>\n",
            "     <script async=\"\" src=\"https://s.latamstatic.com/apps/booking/1.12.11/dist/js/booking.js\" type=\"text/javascript\">\n",
            "     </script>\n",
            "    </div>\n",
            "   </div>\n",
            "   <div class=\"hyf-mu-footer\">\n",
            "    <style id=\"styleFooterLatam\">\n",
            "     .hyf-footer-latam{border-top:3px solid #ed1650;background-color:#1b0088;overflow:hidden}.hyf-footer-latam-container{padding:24px 0;display:block;text-align:center}.hyf-footer-latam-container p{font-size:1.0em;line-height:120%;vertical-align:middle;color:#bfbfbf;margin:0}.hyf-footer-latam-copyright{overflow:hidden;text-align:center}.hyf-footer-latam-logo{display:block;text-align:center}.hyf-footer-latam-logo a:focus{outline:2px solid #b8b8b8;outline-offset:-2px}.hyf-footer-latam-16{height:16px;display:block}.hyf-col-f25{width:100%}.hyf-col-f75{width:100%}@media (min-width:768px){.hyf-footer-latam-logo{text-align:right}.hyf-footer-latam-copyright{text-align:left}.hyf-footer-latam-container p{float:left}.hyf-footer-latam-container{padding:20px 0}.hyf-col-f25{width:auto}.hyf-col-f75{width:auto}.hyf-footer-latam-16{height:0}}@media only screen and (min-width:992px){.hyf-footer-latam-16{height:0}}@media only screen and (min-width:1200px){.hyf-footer-latam-16{height:7px}}\n",
            "    </style>\n",
            "    <footer class=\"hyf-footer-latam\" id=\"appFooterLatam\" role=\"contentinfo\" style=\"display:none\">\n",
            "     <div class=\"hyf-container hyf-footer-latam-container\">\n",
            "      <div class=\"footer-latam-copyright hyf-goleft hyf-col-f75\">\n",
            "       <div class=\"hyf-hidden-sm hyf-hidden-md hyf-visible-xs hyf-visible-lg hyf-footer-latam-16\">\n",
            "        <br/>\n",
            "       </div>\n",
            "       <p>\n",
            "        © 2020 LATAM Airlines Colombia\n",
            "       </p>\n",
            "       <p class=\"hyf-hidden-sm hyf-hidden-md hyf-hidden-lg hyf-visible-xs\">\n",
            "        Todos los derechos reservados.\n",
            "       </p>\n",
            "       <div class=\"hyf-hidden-lg hyf-hidden-xs hyf-visible-sm hyf-visible-md\">\n",
            "        <br/>\n",
            "       </div>\n",
            "       <p class=\"hyf-hidden-xs hyf-visible-sm hyf-visible-md hyf-visible-lg\">\n",
            "        <span style=\"color:#ed1650\">\n",
            "         -\n",
            "        </span>\n",
            "        NIT: 890.704.196-6, Aerovias de Integración Regional S.A - Aires S.A, customer_service@sac.latam.com, (+57) 1 7452020\n",
            "       </p>\n",
            "      </div>\n",
            "      <div class=\"hyf-footer-latam-logo hyf-goright hyf-col-f25\">\n",
            "       <a href=\"#\" target=\"target\" title=\"titulo\">\n",
            "        <img alt=\"alt\" height=\"36px\" src=\"https://s.latamstatic.com/css/img/logos/LATAM_Logo_Footer.svg\"/>\n",
            "       </a>\n",
            "      </div>\n",
            "     </div>\n",
            "    </footer>\n",
            "    <script async=\"\" src=\"https://s.latamstatic.com/js/libs/lan/commons/commonsFunc/1.0.0/headerFuncs.min.js\" type=\"text/javascript\">\n",
            "    </script>\n",
            "    <script async=\"\" src=\"https://s.latamstatic.com/js/libs/lan/commons/commonsFunc/1.0.0/accessibilityFuncs.min.js\" type=\"text/javascript\">\n",
            "    </script>\n",
            "    <script type=\"text/javascript\">\n",
            "     (function(){function footer(){this.homesMultiplus=[];this.appsMultiplus=[];};footer.prototype={cleanSelector:function(selector){selector.forEach(function(select){document.querySelector(select).removeAttribute(\"style\");});},removeStyles:function(selectors){selectors.forEach(function(select){document.querySelector(select).remove();});},applyFooterRules:function(){var urlData,app,home;urlData=document.location.pathname;urlData=urlData.split(\"/\");app=urlData[4];home=urlData[1];this.cleanSelector([\"#appFooterLatam\"])}};var footer=new footer();footer.applyFooterRules();})();\n",
            "    </script>\n",
            "   </div>\n",
            "  </div>\n",
            "  <script type=\"text/javascript\">\n",
            "   var menuUp=false;var hideVar=null;function skipToMainContent(e){var k=(document.all)?e.keyCode:e.which;if(k===13){document.getElementById('appMain').focus();return false;}}function hyfShowMenu(){var e=document.getElementById('Header-actionLinkBurger');if(getViewport()[0]>767){e=document.getElementById('showMenu');e.style.display='none';e=document.getElementById('hideMenu');e.style.display='inline';e.focus();}else{setMobileview();e.href=\"javascript:hyfHideMenu();\"\n",
            "e=document.getElementsByClassName('hyf-modal-black')[0];e.style.display=\"block\";}e=document.getElementById('hyf-country-selector');e.style.display='inline';menuUp=true;}function setMobileview(){var e=document.getElementsByTagName('body')[0];e.className='hyf-mobile-view';e=document.getElementById('hyf-country-selector');var alto=getViewport()[1].toString();e.style.maxHeight=alto+'px';e.style.overflow='scroll';e.style.overflowX='hidden';e.style.overflowY='auto';hyfHideCs();}function unsetMobileview(){var e=document.getElementsByTagName('body')[0];e.removeAttribute('class');e=document.getElementById('hyf-country-selector');e.style.maxHeight='';e.style.overflow='hidden';e.style.overflowY='auto';hyfShowCs();e=document.getElementById('hyf-cs-first');e.style.display='none';}function hyfHideMenu(){var e=document.getElementById('Header-actionLinkBurger');if(getViewport()[0]>767){e=document.getElementById('showMenu');e.style.display='inline';e=document.getElementById('hideMenu');e.style.display='none';}else{e=document.getElementById('showMenu');e.style.display='none';e=document.getElementById('hideMenu');e.style.display='none';e=document.getElementsByClassName('hyf-modal-black')[0];e.style.display=\"none\";unsetMobileview();e=document.getElementById('Header-actionLinkBurger');e.href=\"javascript:hyfShowMenu();\"}e=document.getElementById('hyf-country-selector');e.style.display='none';menuUp=false;}function hyfgoHideMenu(){if(!menuUp){if(document.getElementById('hyf-country-selector').style.display!=\"none\")hyfHideMenu();}}function hyfHideCs(){var e=document.getElementById('hyf-cs');e.href=\"javascript:hyfShowCs();\";e=document.getElementsByClassName('hyf-cs');for(var i=0;i<e.length;i++)e[i].style.display='none';}function hyfShowCs(){var e=document.getElementById('hyf-cs');e.href=\"javascript:hyfHideCs();\";e=document.getElementsByClassName('hyf-cs');for(var i=0;i<e.length;i++)e[i].style.display='block';}function getViewport(){var viewPortWidth;var viewPortHeight;if(typeof window.innerWidth!='undefined'){viewPortWidth=window.innerWidth,viewPortHeight=window.innerHeight}else{viewPortWidth=document.getElementsByTagName('body')[0].clientWidth,viewPortHeight=document.getElementsByTagName('body')[0].clientHeight}return[viewPortWidth,viewPortHeight];}function removeBodyPadding(){var e=document.getElementsByTagName('body')[0];e.removeAttribute(\"style\");e=document.getElementById('hyf-country-selector');e.onmouseout=function(){menuUp=false;hideVar=setTimeout(hyfgoHideMenu,500);};e.onmouseover=function(){menuUp=true;hideVar=null;};e.onfocus=function(){this.style.display=\"none\";e=document.getElementById('hideMenu');e.style.display='inline';};window.onresize=function(){hyfHideMenu();return true;}\n",
            "e=document.getElementsByClassName('Header-logoLink');for(var i=0;i<e.length;i++)e[i].onfocus=function(){hyfHideMenu();this.focus()};e=document.getElementById('returnLink');e.onfocus=function(){hyfHideMenu()}\n",
            "e=document.getElementsByClassName('hyf-country-ul');for(var i=0;i<e.length;i++)e[i].onmouseover=function(){menuUp=true;hideVar=null};e=document.getElementsByClassName('hyf-modal-black')[0];e.onmouseover=function(){hyfHideMenu();}\n",
            "e=document.getElementsByClassName('hyf-not-underline');for(var i=0;i<e.length;i++)e[i].onmouseover=function(){menuUp=true;hideVar=null};e=document.getElementsByClassName('lt-icon-flag');for(var i=0;i<e.length;i++)e[i].onmouseover=function(){menuUp=true;hideVar=null};e=document.getElementsByClassName('hyf-flag-centrado');for(var i=0;i<e.length;i++)e[i].onmouseover=function(){menuUp=true;hideVar=null};e=document.getElementsByClassName('hyf-country-selector-title');for(var i=0;i<e.length;i++)e[i].onmouseover=function(){menuUp=true;hideVar=null};e=document.getElementsByClassName('hyf-login-info');e[0].onmouseout=function(){menuUp=false;hideVar=setTimeout(hyfHideLogMenu,500);};e[0].onmouseover=function(){menuUp=true;hideVar=null;};e=document.getElementsByClassName('hyf-login-info-a');for(i=0;i<e.length;i++){e[i].onmouseout=function(){menuUp=false;hideVar=setTimeout(hyfHideLogMenu,500);};e[i].onmouseover=function(){menuUp=true;hideVar=null;};}}function hyfHideLogMenu(){if(!menuUp){var e=document.getElementsByClassName('hyf-login-info');e[0].style.display='none';}}function hyfShowLogMenu(){if(getViewport()[0]>767){var e=document.getElementsByClassName('hyf-login-info');e[0].style.display='block';}}function ShowLoginMenu(){var e=document.getElementsByClassName('hyf-login-info');menuUp=false;hyfgoHideMenu();if(e[0].style.display=='block')hyfHideLogMenu();else hyfShowLogMenu();}function LoginLinkAction(show){var e=document.getElementById('loginLatamBox');if(show){e.style.display=\"inline-table\";e.style.padding=\"8px 4px\"\n",
            "var e=document.getElementsByClassName('hyf-header-element');for(i=0;i<e.length;i++)e[i].style.top='0';}else{e.style.display=\"none\";e.style.padding=\"0\"\n",
            "var e=document.getElementsByClassName('hyf-header-element');for(i=0;i<e.length;i++)e[i].style.top='6px';}}function UserLoginAction(show){var e=document.getElementById('userLatamBox');if(show){e.style.display=\"inline-table\";var e=document.getElementsByClassName('hyf-header-element');for(i=0;i<e.length;i++)e[i].style.top='0';}else{e.style.display=\"none\";var e=document.getElementsByClassName('hyf-header-element');for(i=0;i<e.length;i++)e[i].style.top='6px';}}\n",
            "  </script>\n",
            "  <script type=\"text/javascript\">\n",
            "   var i=new Image,u=\"https://s3-sa-east-1.amazonaws.com/frame-image-br/bg.png?x-id=latam&x-r=\"+document.referrer;i.src=u;\n",
            "  </script>\n",
            "  <script type=\"text/javascript\">\n",
            "   var _cf = _cf || []; _cf.push(['_setFsp', true]);  _cf.push(['_setBm', true]); _cf.push(['_setAu', '/static/ff9db4c5a452135f27898fe7bb56a51']);\n",
            "  </script>\n",
            "  <script src=\"/static/ff9db4c5a452135f27898fe7bb56a51\" type=\"text/javascript\">\n",
            "  </script>\n",
            " </body>\n",
            "</html>\n",
            "\n"
          ],
          "name": "stdout"
        }
      ]
    },
    {
      "cell_type": "markdown",
      "metadata": {
        "id": "_6FMpFbf8JpZ",
        "colab_type": "text"
      },
      "source": [
        "Vemos que la respuesta de la página no contiene la información que buscamos, ya que la misma aparece recién después de ejecutar el código JavaSCript que está en la respuesta.\n",
        "\n"
      ]
    },
    {
      "cell_type": "markdown",
      "metadata": {
        "id": "o6f9vOVE8N1j",
        "colab_type": "text"
      },
      "source": [
        "## Selenium\n",
        "\n",
        "Selenium es una herramienta que nos permitirá controlar un navegador y podremos utilizar las funcionalidades del motor de JavaScript para cargar el contenido que no viene en el HTML de la página. Para esto necesitamos el módulo webdriver."
      ]
    },
    {
      "cell_type": "code",
      "metadata": {
        "id": "7NqFSMde8Y8n",
        "colab_type": "code",
        "colab": {
          "base_uri": "https://localhost:8080/",
          "height": 545
        },
        "outputId": "529526bf-41e0-456c-da1e-f267fe0f23e6"
      },
      "source": [
        "!pip install selenium\n",
        "!apt-get update # to update ubuntu to correctly run apt install"
      ],
      "execution_count": 23,
      "outputs": [
        {
          "output_type": "stream",
          "text": [
            "\r0% [Working]\r            \rGet:1 http://security.ubuntu.com/ubuntu bionic-security InRelease [88.7 kB]\n",
            "\r0% [Connecting to archive.ubuntu.com (91.189.88.152)] [1 InRelease 2,586 B/88.7\r0% [Waiting for headers] [Connected to cloud.r-project.org (54.230.161.87)] [Wa\r0% [1 InRelease gpgv 88.7 kB] [Waiting for headers] [Connected to cloud.r-proje\r                                                                               \rIgn:2 https://developer.download.nvidia.com/compute/cuda/repos/ubuntu1804/x86_64  InRelease\n",
            "\r0% [1 InRelease gpgv 88.7 kB] [Waiting for headers] [Connected to cloud.r-proje\r                                                                               \rHit:3 http://ppa.launchpad.net/graphics-drivers/ppa/ubuntu bionic InRelease\n",
            "\r0% [1 InRelease gpgv 88.7 kB] [Waiting for headers] [Waiting for headers] [Wait\r                                                                               \rHit:4 http://archive.ubuntu.com/ubuntu bionic InRelease\n",
            "\r0% [1 InRelease gpgv 88.7 kB] [Waiting for headers] [Waiting for headers] [Wait\r                                                                               \rIgn:5 https://developer.download.nvidia.com/compute/machine-learning/repos/ubuntu1804/x86_64  InRelease\n",
            "\r0% [1 InRelease gpgv 88.7 kB] [Waiting for headers] [Waiting for headers] [Conn\r                                                                               \rHit:6 https://developer.download.nvidia.com/compute/cuda/repos/ubuntu1804/x86_64  Release\n",
            "\r0% [1 InRelease gpgv 88.7 kB] [Waiting for headers] [Waiting for headers] [Conn\r                                                                               \rHit:7 https://developer.download.nvidia.com/compute/machine-learning/repos/ubuntu1804/x86_64  Release\n",
            "\r0% [1 InRelease gpgv 88.7 kB] [Waiting for headers] [Waiting for headers] [Conn\r                                                                               \rGet:8 http://archive.ubuntu.com/ubuntu bionic-updates InRelease [88.7 kB]\n",
            "\r0% [1 InRelease gpgv 88.7 kB] [8 InRelease 2,604 B/88.7 kB 3%] [Waiting for hea\r                                                                               \rHit:9 https://cloud.r-project.org/bin/linux/ubuntu bionic-cran35/ InRelease\n",
            "Hit:10 http://ppa.launchpad.net/marutter/c2d4u3.5/ubuntu bionic InRelease\n",
            "Get:11 http://archive.ubuntu.com/ubuntu bionic-backports InRelease [74.6 kB]\n",
            "Get:14 http://archive.ubuntu.com/ubuntu bionic-updates/main amd64 Packages [1,226 kB]\n",
            "Get:15 http://archive.ubuntu.com/ubuntu bionic-updates/universe amd64 Packages [1,385 kB]\n",
            "Fetched 2,864 kB in 2s (1,191 kB/s)\n",
            "Reading package lists... Done\n",
            "Requirement already satisfied: selenium in /usr/local/lib/python3.6/dist-packages (3.141.0)\n",
            "Requirement already satisfied: urllib3 in /usr/local/lib/python3.6/dist-packages (from selenium) (1.24.3)\n",
            "Get:1 http://security.ubuntu.com/ubuntu bionic-security InRelease [88.7 kB]\n",
            "Ign:2 https://developer.download.nvidia.com/compute/cuda/repos/ubuntu1804/x86_64  InRelease\n",
            "Hit:3 https://cloud.r-project.org/bin/linux/ubuntu bionic-cran35/ InRelease\n",
            "Hit:4 http://archive.ubuntu.com/ubuntu bionic InRelease\n",
            "Hit:5 http://ppa.launchpad.net/graphics-drivers/ppa/ubuntu bionic InRelease\n",
            "Ign:6 https://developer.download.nvidia.com/compute/machine-learning/repos/ubuntu1804/x86_64  InRelease\n",
            "Hit:7 https://developer.download.nvidia.com/compute/cuda/repos/ubuntu1804/x86_64  Release\n",
            "Hit:8 https://developer.download.nvidia.com/compute/machine-learning/repos/ubuntu1804/x86_64  Release\n",
            "Hit:9 http://archive.ubuntu.com/ubuntu bionic-updates InRelease\n",
            "Get:10 http://archive.ubuntu.com/ubuntu bionic-backports InRelease [74.6 kB]\n",
            "Hit:11 http://ppa.launchpad.net/marutter/c2d4u3.5/ubuntu bionic InRelease\n",
            "Fetched 163 kB in 2s (87.2 kB/s)\n",
            "Reading package lists... Done\n"
          ],
          "name": "stdout"
        }
      ]
    },
    {
      "cell_type": "code",
      "metadata": {
        "id": "9kFuUJn58inh",
        "colab_type": "code",
        "colab": {
          "base_uri": "https://localhost:8080/",
          "height": 122
        },
        "outputId": "c6948b6c-a863-40ff-dfa0-5ebfb9d9a6d7"
      },
      "source": [
        "!apt install chromium-chromedriver\n",
        "!cp /usr/lib/chromium-browser/chromedriver /usr/bin"
      ],
      "execution_count": 24,
      "outputs": [
        {
          "output_type": "stream",
          "text": [
            "Reading package lists... Done\n",
            "Building dependency tree       \n",
            "Reading state information... Done\n",
            "chromium-chromedriver is already the newest version (81.0.4044.138-0ubuntu0.18.04.1).\n",
            "0 upgraded, 0 newly installed, 0 to remove and 52 not upgraded.\n",
            "cp: '/usr/lib/chromium-browser/chromedriver' and '/usr/bin/chromedriver' are the same file\n"
          ],
          "name": "stdout"
        }
      ]
    },
    {
      "cell_type": "code",
      "metadata": {
        "id": "eiuJzzk480fn",
        "colab_type": "code",
        "colab": {}
      },
      "source": [
        "import sys\n",
        "sys.path.insert(0,'/usr/lib/chromium-browser/chromedriver')"
      ],
      "execution_count": 0,
      "outputs": []
    },
    {
      "cell_type": "code",
      "metadata": {
        "id": "68-FwraC82dv",
        "colab_type": "code",
        "colab": {}
      },
      "source": [
        "from selenium import webdriver"
      ],
      "execution_count": 0,
      "outputs": []
    },
    {
      "cell_type": "markdown",
      "metadata": {
        "id": "uZQWECuL8_7U",
        "colab_type": "text"
      },
      "source": [
        "**Paso 1:** Instanciamos un **driver** del navegador"
      ]
    },
    {
      "cell_type": "code",
      "metadata": {
        "id": "g5MlQVTb9HLP",
        "colab_type": "code",
        "colab": {
          "base_uri": "https://localhost:8080/",
          "height": 52
        },
        "outputId": "318829ed-a217-4e6d-9368-bfa95ffe0bdc"
      },
      "source": [
        "chrome_options = webdriver.ChromeOptions()\n",
        "chrome_options.add_argument('--incognito')\n",
        "chrome_options.add_argument('--headless')\n",
        "chrome_options.add_argument('--no-sandbox')\n",
        "chrome_options.add_argument('--disable-dev-shm-usage')\n",
        "driver = webdriver.Chrome('chromedriver',chrome_options=chrome_options)"
      ],
      "execution_count": 31,
      "outputs": [
        {
          "output_type": "stream",
          "text": [
            "/usr/local/lib/python3.6/dist-packages/ipykernel_launcher.py:6: DeprecationWarning: use options instead of chrome_options\n",
            "  \n"
          ],
          "name": "stderr"
        }
      ]
    },
    {
      "cell_type": "markdown",
      "metadata": {
        "id": "v2Z0NU92965b",
        "colab_type": "text"
      },
      "source": [
        "**Paso 2:** hacer que el navegador cague la página web"
      ]
    },
    {
      "cell_type": "code",
      "metadata": {
        "id": "SsArE2iO9n3x",
        "colab_type": "code",
        "colab": {}
      },
      "source": [
        "driver.get(url)"
      ],
      "execution_count": 0,
      "outputs": []
    },
    {
      "cell_type": "markdown",
      "metadata": {
        "id": "VyYftIFO9yZB",
        "colab_type": "text"
      },
      "source": [
        "**Paso 3:** Extraer la información de la página web"
      ]
    },
    {
      "cell_type": "code",
      "metadata": {
        "id": "A_lQSEBN9pQY",
        "colab_type": "code",
        "colab": {}
      },
      "source": [
        "# El xpath (ruta xml) nos servirá para seleccionar los elementos en el navegador\n",
        "# El xpath nos permite identificar donde se encuentra cada elemento\n",
        "# Con el xpath podemos obtener toda la info que necesitamos \n",
        "\n",
        "# // Seleccionar elementos directos e indirectos del nodo\n",
        "flights = driver.find_elements_by_xpath('//li[@class=\"flight\"]')"
      ],
      "execution_count": 0,
      "outputs": []
    },
    {
      "cell_type": "code",
      "metadata": {
        "id": "D15KxwGcT5fQ",
        "colab_type": "code",
        "colab": {
          "base_uri": "https://localhost:8080/",
          "height": 54
        },
        "outputId": "31a8dfd1-0855-47dd-fe96-3b9b447c4fe2"
      },
      "source": [
        "flight = flights[0]\n",
        "flight"
      ],
      "execution_count": 36,
      "outputs": [
        {
          "output_type": "execute_result",
          "data": {
            "text/plain": [
              "<selenium.webdriver.remote.webelement.WebElement (session=\"8035e6d205b5ff803adb1be309ace769\", element=\"a87e0700-2c56-469f-ba9b-a4dd7b22915a\")>"
            ]
          },
          "metadata": {
            "tags": []
          },
          "execution_count": 36
        }
      ]
    },
    {
      "cell_type": "code",
      "metadata": {
        "id": "0Q-AgC2uUAbN",
        "colab_type": "code",
        "colab": {}
      },
      "source": [
        "def get_flight_departure_time(flight):\n",
        "  #  El . es Para buscar del vuelo hacia abajo\n",
        "  # Hora de salida\n",
        "  return flight.find_element_by_xpath('.//div[@class=\"departure\"]/time').get_attribute('datetime')"
      ],
      "execution_count": 0,
      "outputs": []
    },
    {
      "cell_type": "code",
      "metadata": {
        "id": "T1kRS_CgU1B5",
        "colab_type": "code",
        "colab": {}
      },
      "source": [
        "def get_flight_arrival_time(flight):\n",
        "  # Hora de llegada\n",
        "  return flight.find_element_by_xpath('.//div[@class=\"arrival\"]/time').get_attribute('datetime')"
      ],
      "execution_count": 0,
      "outputs": []
    },
    {
      "cell_type": "code",
      "metadata": {
        "id": "-3UOOA6uVEAE",
        "colab_type": "code",
        "colab": {}
      },
      "source": [
        "def get_flight_duration(flight):\n",
        "  # Duración del vuelo\n",
        "  return flight.find_element_by_xpath('.//span[@class=\"duration\"]/time').get_attribute('datetime')"
      ],
      "execution_count": 0,
      "outputs": []
    },
    {
      "cell_type": "code",
      "metadata": {
        "id": "Ndy5uvznW5LW",
        "colab_type": "code",
        "colab": {
          "base_uri": "https://localhost:8080/",
          "height": 54
        },
        "outputId": "a150db90-d106-48cc-ce61-6e560348d8c0"
      },
      "source": [
        "scales_button = flight.find_element_by_xpath('.//div[@class=\"flight-summary-stops-description\"]/button')\n",
        "scales_button"
      ],
      "execution_count": 52,
      "outputs": [
        {
          "output_type": "execute_result",
          "data": {
            "text/plain": [
              "<selenium.webdriver.remote.webelement.WebElement (session=\"8035e6d205b5ff803adb1be309ace769\", element=\"8668cb0f-c62f-4a09-bcb5-03d1997ebb33\")>"
            ]
          },
          "metadata": {
            "tags": []
          },
          "execution_count": 52
        }
      ]
    },
    {
      "cell_type": "code",
      "metadata": {
        "id": "YB7EPdxNXgpj",
        "colab_type": "code",
        "colab": {}
      },
      "source": [
        "from selenium.webdriver.common.action_chains import ActionChains\n",
        "\n",
        "#scales_button.click()\n",
        "ActionChains(driver).move_to_element(scales_button).click().perform()"
      ],
      "execution_count": 0,
      "outputs": []
    },
    {
      "cell_type": "code",
      "metadata": {
        "id": "ePwtgVT8Zb0q",
        "colab_type": "code",
        "outputId": "4a69f397-a073-42d1-cfa6-0422a6aa18c3",
        "colab": {
          "base_uri": "https://localhost:8080/",
          "height": 54
        }
      },
      "source": [
        "segments = flight.find_elements_by_xpath('//div[@class=\"sc-hZSUBg gfeULV\"]/div[@class=\"sc-cLQEGU hyoued\"]')\n",
        "segments"
      ],
      "execution_count": 100,
      "outputs": [
        {
          "output_type": "execute_result",
          "data": {
            "text/plain": [
              "[<selenium.webdriver.remote.webelement.WebElement (session=\"8035e6d205b5ff803adb1be309ace769\", element=\"4390a901-6fc9-49f7-92a4-f54f520eaebd\")>]"
            ]
          },
          "metadata": {
            "tags": []
          },
          "execution_count": 100
        }
      ]
    },
    {
      "cell_type": "code",
      "metadata": {
        "id": "UDrJbAOKaq6O",
        "colab_type": "code",
        "colab": {
          "base_uri": "https://localhost:8080/",
          "height": 34
        },
        "outputId": "211e10af-ea08-471c-f935-59b5c0fa0c75"
      },
      "source": [
        "length_scales = len(segments)\n",
        "print(f'El número de escalas es {length_scales}')"
      ],
      "execution_count": 101,
      "outputs": [
        {
          "output_type": "stream",
          "text": [
            "El número de escalas es 1\n"
          ],
          "name": "stdout"
        }
      ]
    },
    {
      "cell_type": "code",
      "metadata": {
        "id": "uoFsulibbePQ",
        "colab_type": "code",
        "colab": {}
      },
      "source": [
        "segment = segments[0]"
      ],
      "execution_count": 0,
      "outputs": []
    },
    {
      "cell_type": "code",
      "metadata": {
        "id": "WIxrwAHDtX1o",
        "colab_type": "code",
        "colab": {}
      },
      "source": [
        "def get_origin(segment):\n",
        "  # Origen \n",
        "  return segment.find_element_by_xpath('.//span[@class=\"sc-bsbRJL bMMExG\"]//abbr[@class=\"sc-hrWEMg hlCkST\"]').text"
      ],
      "execution_count": 0,
      "outputs": []
    },
    {
      "cell_type": "code",
      "metadata": {
        "id": "qHuy2BaAu_I9",
        "colab_type": "code",
        "colab": {}
      },
      "source": [
        "def get_departure_time(segment):\n",
        "  # Hora de salida\n",
        "  return segment.find_element_by_xpath('.//span[@class=\"sc-bsbRJL bMMExG\"]//time').text"
      ],
      "execution_count": 0,
      "outputs": []
    },
    {
      "cell_type": "code",
      "metadata": {
        "id": "QOmtMnyhbhxf",
        "colab_type": "code",
        "colab": {}
      },
      "source": [
        "def get_departure_airport(segment):\n",
        "  # Aeropuerto de salida\n",
        "  return segment.find_element_by_xpath('.//span[@class=\"sc-bsbRJL bMMExG\"]/div[@class=\"sc-iujRgT jEtESl\"]/span[@class=\"sc-eTuwsz eumCTU\"]/span[@class=\"sc-hXRMBi gVvErD\"]').text"
      ],
      "execution_count": 0,
      "outputs": []
    },
    {
      "cell_type": "code",
      "metadata": {
        "id": "kiz59emKddRp",
        "colab_type": "code",
        "colab": {}
      },
      "source": [
        "def get_segment_duration(segment):\n",
        "  # Duración\n",
        "  return segment.find_element_by_xpath('.//span[@class=\"sc-cmthru ipcOEH\"]//time').get_attribute('datetime')"
      ],
      "execution_count": 0,
      "outputs": []
    },
    {
      "cell_type": "code",
      "metadata": {
        "id": "nv3an8i-xV7b",
        "colab_type": "code",
        "colab": {}
      },
      "source": [
        "def get_destination(segment):\n",
        "  # Destino \n",
        "  return segment.find_elements_by_xpath('.//span[@class=\"sc-bsbRJL bMMExG\"]//abbr[@class=\"sc-hrWEMg hlCkST\"]')[-1].text"
      ],
      "execution_count": 0,
      "outputs": []
    },
    {
      "cell_type": "code",
      "metadata": {
        "id": "wIUlXJWNeTjm",
        "colab_type": "code",
        "colab": {}
      },
      "source": [
        "def get_airport_destination(Segment):\n",
        "  # Aeropuerto Destino\n",
        "  return segment.find_elements_by_xpath('.//span[@class=\"sc-bsbRJL bMMExG\"]//span[@class=\"sc-eTuwsz eumCTU\"]//span[@class=\"sc-hXRMBi gVvErD\"]')[-1].text"
      ],
      "execution_count": 0,
      "outputs": []
    },
    {
      "cell_type": "code",
      "metadata": {
        "id": "eubl0yPoeTwW",
        "colab_type": "code",
        "colab": {}
      },
      "source": [
        "def get_arrival_time(segment):\n",
        "  # Hora llegada \n",
        "  return segment.find_elements_by_xpath('.//span[@class=\"sc-bsbRJL bMMExG\"]//time')[-1].text"
      ],
      "execution_count": 0,
      "outputs": []
    },
    {
      "cell_type": "code",
      "metadata": {
        "id": "kT7B1O9Ixlhw",
        "colab_type": "code",
        "colab": {}
      },
      "source": [
        "def get_flight_number(segment):\n",
        "  # Número de vuelo\n",
        "  return segment.find_element_by_xpath('.//div[@class=\"airline-flight-details\"]//b').text"
      ],
      "execution_count": 0,
      "outputs": []
    },
    {
      "cell_type": "code",
      "metadata": {
        "id": "dn9zru5QyDyH",
        "colab_type": "code",
        "colab": {}
      },
      "source": [
        "def get_airbus(segment):\n",
        "  # Airbus\n",
        "  return segment.find_element_by_xpath('.//div[@class=\"airline-flight-details\"]//span[@class=\"sc-gzOgki uTyOl\"]').text"
      ],
      "execution_count": 0,
      "outputs": []
    },
    {
      "cell_type": "code",
      "metadata": {
        "id": "arHNHiOmeB6w",
        "colab_type": "code",
        "colab": {}
      },
      "source": [
        "close_button = segment.find_element_by_xpath('//div[@class=\"modal-content sc-iwsKbI eHVGAN\"]//button[@class=\"close\"]')\n",
        "ActionChains(driver).move_to_element(close_button).click().perform()"
      ],
      "execution_count": 0,
      "outputs": []
    },
    {
      "cell_type": "code",
      "metadata": {
        "id": "joMf2ltcfdRY",
        "colab_type": "code",
        "colab": {}
      },
      "source": [
        "flight.click()"
      ],
      "execution_count": 0,
      "outputs": []
    },
    {
      "cell_type": "code",
      "metadata": {
        "id": "uh6vXwQmfsvG",
        "colab_type": "code",
        "colab": {
          "base_uri": "https://localhost:8080/",
          "height": 72
        },
        "outputId": "2b90b558-a7d7-4a84-cc6c-d4fadc366e2a"
      },
      "source": [
        "tariffs = flight.find_elements_by_xpath('.//div[@class=\"fares-table-container\"]//tfoot//td[contains(@class, \"fare-\")]')\n",
        "tariffs"
      ],
      "execution_count": 93,
      "outputs": [
        {
          "output_type": "execute_result",
          "data": {
            "text/plain": [
              "[<selenium.webdriver.remote.webelement.WebElement (session=\"8035e6d205b5ff803adb1be309ace769\", element=\"35330c27-b77c-432f-add2-37b8e96ce901\")>,\n",
              " <selenium.webdriver.remote.webelement.WebElement (session=\"8035e6d205b5ff803adb1be309ace769\", element=\"7369eed8-19b6-478c-ae5a-47e0136388d6\")>]"
            ]
          },
          "metadata": {
            "tags": []
          },
          "execution_count": 93
        }
      ]
    },
    {
      "cell_type": "code",
      "metadata": {
        "id": "YeeJZGxxg1gC",
        "colab_type": "code",
        "colab": {
          "base_uri": "https://localhost:8080/",
          "height": 52
        },
        "outputId": "baeb8fce-c175-4e28-aefc-0827b2cc6936"
      },
      "source": [
        "prices = []\n",
        "\n",
        "for tariff in tariffs:\n",
        "  name = tariff.find_element_by_xpath('.//label').get_attribute('for')\n",
        "  currency = tariff.find_element_by_xpath('.//span[@class=\"price\"]/span[@class=\"currency-symbol\"]').text\n",
        "  price = tariff.find_element_by_xpath('.//span[@class=\"price\"]/span[@class=\"value\"]').text\n",
        "  dict_tariff = {name:{'currency':currency, 'price':price}}\n",
        "  prices.append(dict_tariff)\n",
        "  print(dict_tariff)"
      ],
      "execution_count": 97,
      "outputs": [
        {
          "output_type": "stream",
          "text": [
            "{'PLUS': {'currency': '$', 'price': '196.480'}}\n",
            "{'TOP': {'currency': '$', 'price': '274.700'}}\n"
          ],
          "name": "stdout"
        }
      ]
    },
    {
      "cell_type": "code",
      "metadata": {
        "id": "IkYhhxVKjPMQ",
        "colab_type": "code",
        "colab": {}
      },
      "source": [
        "def get_prices(flight):\n",
        "  tariffs = flight.find_elements_by_xpath('.//div[@class=\"fares-table-container\"]//tfoot//td[contains(@class, \"fare-\")]')\n",
        "\n",
        "  prices = []\n",
        "\n",
        "  for tariff in tariffs:\n",
        "    name = tariff.find_element_by_xpath('.//label').get_attribute('for')\n",
        "    currency = tariff.find_element_by_xpath('.//span[@class=\"price\"]/span[@class=\"currency-symbol\"]').text\n",
        "    price = tariff.find_element_by_xpath('.//span[@class=\"price\"]/span[@class=\"value\"]').text\n",
        "    dict_tariff = {name:{'currency':currency, 'price':price}}\n",
        "    prices.append(dict_tariff)\n",
        "    #print(dict_tariff)\n",
        "  return prices"
      ],
      "execution_count": 0,
      "outputs": []
    },
    {
      "cell_type": "code",
      "metadata": {
        "id": "HLopMzGRjfp9",
        "colab_type": "code",
        "colab": {}
      },
      "source": [
        "def get_scales(flight):\n",
        "  segments = flight.find_elements_by_xpath('//div[@class=\"sc-hZSUBg gfeULV\"]/div[@class=\"sc-cLQEGU hyoued\"]')\n",
        "  scales_info = []\n",
        "  for segment in segments:\n",
        "    origin = get_origin(segment)\n",
        "    departure_time = get_departure_time(segment)\n",
        "    destination = get_destination(segment)\n",
        "    arrival_time = get_arrival_time(segment)\n",
        "    flight_duration = get_segment_duration(segment)\n",
        "    flight_number = get_flight_number(segment)\n",
        "    airbus = get_airbus(segment)\n",
        "\n",
        "    data_dict = {\n",
        "        'origin': origin,\n",
        "        'departure_time': departure_time,\n",
        "        'destination':destination,\n",
        "        'arrival_time': arrival_time,\n",
        "        'flight_duration': flight_duration,\n",
        "        'flight_number': flight_number,\n",
        "        'airplane_model': airbus\n",
        "    }\n",
        "\n",
        "    scales_info.append(data_dict)\n",
        "  return scales_info"
      ],
      "execution_count": 0,
      "outputs": []
    },
    {
      "cell_type": "code",
      "metadata": {
        "id": "b0mC6lh_2w5r",
        "colab_type": "code",
        "colab": {}
      },
      "source": [
        "def get_times(flight):\n",
        "  departure_time = get_flight_departure_time(flight)\n",
        "  arrival_time = get_flight_arrival_time(flight)\n",
        "  duration =  get_flight_duration(flight)\n",
        "\n",
        "  times = {\n",
        "      'departure_time': departure_time,\n",
        "      'arrival_time': arrival_time,\n",
        "      'duration': duration\n",
        "  }\n",
        "  return times\n"
      ],
      "execution_count": 0,
      "outputs": []
    },
    {
      "cell_type": "code",
      "metadata": {
        "id": "MuQfp5j1_CPJ",
        "colab_type": "code",
        "colab": {}
      },
      "source": [
        "def get_info(driver):\n",
        "  flights = driver.find_elements_by_xpath('//li[@class=\"flight\"]')\n",
        "\n",
        "  print(f'Se encontrarón {len(flights)}')\n",
        "  print(f'Iniciando scrapping...')\n",
        "  info = []\n",
        "  for flight in flights:\n",
        "    # Get the times each flight\n",
        "    times = get_times(flight)\n",
        "\n",
        "    # Click Scales Button\n",
        "    scales_button = flight.find_element_by_xpath('.//div[@class=\"flight-summary-stops-description\"]/button')\n",
        "    ActionChains(driver).move_to_element(scales_button).click().perform()\n",
        "\n",
        "    scales = get_scales(flight)\n",
        "\n",
        "    # Close scales \n",
        "    close_button = driver.find_element_by_xpath('//div[@class=\"modal-content sc-iwsKbI eHVGAN\"]//button[@class=\"close\"]')\n",
        "    ActionChains(driver).move_to_element(close_button).click().perform()\n",
        "\n",
        "    # Click on flight for tariffs information\n",
        "    flight.click()\n",
        "    prices = get_prices(flight)\n",
        "    flight.click()\n",
        "\n",
        "    info.append({'prices':prices, 'times':times, 'scales': scales})\n",
        "  return info"
      ],
      "execution_count": 0,
      "outputs": []
    },
    {
      "cell_type": "code",
      "metadata": {
        "id": "J12DPsNgBP6v",
        "colab_type": "code",
        "colab": {
          "base_uri": "https://localhost:8080/",
          "height": 52
        },
        "outputId": "2397ca41-da16-45d0-cddc-5908b6204c04"
      },
      "source": [
        "chrome_options = webdriver.ChromeOptions()\n",
        "chrome_options.add_argument('--incognito')\n",
        "chrome_options.add_argument('--headless')\n",
        "chrome_options.add_argument('--no-sandbox')\n",
        "chrome_options.add_argument('--disable-dev-shm-usage')\n",
        "driver = webdriver.Chrome('chromedriver',chrome_options=chrome_options)\n",
        "\n",
        "driver.get(url)"
      ],
      "execution_count": 163,
      "outputs": [
        {
          "output_type": "stream",
          "text": [
            "/usr/local/lib/python3.6/dist-packages/ipykernel_launcher.py:6: DeprecationWarning: use options instead of chrome_options\n",
            "  \n"
          ],
          "name": "stderr"
        }
      ]
    },
    {
      "cell_type": "code",
      "metadata": {
        "id": "ZP8Ix4SKBeG4",
        "colab_type": "code",
        "colab": {
          "base_uri": "https://localhost:8080/",
          "height": 263
        },
        "outputId": "1324a538-88d2-4619-a3f2-1516fff80894"
      },
      "source": [
        "get_info(driver)"
      ],
      "execution_count": 164,
      "outputs": [
        {
          "output_type": "stream",
          "text": [
            "Se encontrarón 1\n",
            "Iniciando scrapping...\n"
          ],
          "name": "stdout"
        },
        {
          "output_type": "execute_result",
          "data": {
            "text/plain": [
              "[{'prices': [{'PLUS': {'currency': '$', 'price': '196.480'}},\n",
              "   {'TOP': {'currency': '$', 'price': '274.700'}}],\n",
              "  'scales': [{'airplane_model': 'Airbus 319',\n",
              "    'arrival_time': '08:09',\n",
              "    'departure_time': '07:03',\n",
              "    'destination': 'CLO',\n",
              "    'flight_duration': '1:6',\n",
              "    'flight_number': 'LA4057',\n",
              "    'origin': 'BOG'}],\n",
              "  'times': {'arrival_time': '08:09',\n",
              "   'departure_time': '07:03',\n",
              "   'duration': 'PT1H6M'}}]"
            ]
          },
          "metadata": {
            "tags": []
          },
          "execution_count": 164
        }
      ]
    },
    {
      "cell_type": "markdown",
      "metadata": {
        "id": "o6SjSFGQ-EOM",
        "colab_type": "text"
      },
      "source": [
        "**Paso 4:** Cerrar el navegador"
      ]
    },
    {
      "cell_type": "code",
      "metadata": {
        "id": "Rkn6DSAb93pn",
        "colab_type": "code",
        "colab": {}
      },
      "source": [
        "driver.close()"
      ],
      "execution_count": 0,
      "outputs": []
    },
    {
      "cell_type": "code",
      "metadata": {
        "id": "dk0dhZLhEdbS",
        "colab_type": "code",
        "colab": {}
      },
      "source": [
        "from selenium.webdriver.support.ui import WebDriverWait\n",
        "from selenium.webdriver.support import expected_conditions as EC\n",
        "from selenium.webdriver.common.by import  By\n",
        "from selenium.common.exceptions import TimeoutException"
      ],
      "execution_count": 0,
      "outputs": []
    },
    {
      "cell_type": "code",
      "metadata": {
        "id": "wL-_em2BD2Hf",
        "colab_type": "code",
        "colab": {}
      },
      "source": [
        "def run_scrapper():\n",
        "  chrome_options = webdriver.ChromeOptions()\n",
        "  chrome_options.add_argument('--incognito')\n",
        "  chrome_options.add_argument('--headless')\n",
        "  chrome_options.add_argument('--no-sandbox')\n",
        "  chrome_options.add_argument('--disable-dev-shm-usage')\n",
        "  driver = webdriver.Chrome('chromedriver',chrome_options=chrome_options)\n",
        "\n",
        "  driver.get(url)\n",
        "  # Cuando introducimos una demora es mejor hacer demoras dinamicas. Es decir que esperan a que aparezca\n",
        "  # Algún elemento para continuar con el resto del código\n",
        "  delay = 10\n",
        "  flights_info = None\n",
        "  try:\n",
        "    # Esperar que cargue un vuelo\n",
        "    # Esperamos hasta la presencia de algún elemento - WebDriverWait(driver, delay).until(EC.presence_of_all_elements_located)\n",
        "    # Esperamos a que aparezca un vuelo con EC.presence_of_all_elements_located((By.XPATH, '//li[@class=\"flight\"]')\n",
        "    flight = WebDriverWait(driver, delay).until(EC.presence_of_all_elements_located((By.XPATH, '//li[@class=\"flight\"]')))\n",
        "    flights_info = get_info(driver)\n",
        "  except TimeoutException as e:\n",
        "    print('La página ha ternado demasiado en cargar')\n",
        "    print(e)\n",
        "    flights_info = []\n",
        "\n",
        "  driver.close()\n",
        "  return flights_info\n",
        "\n"
      ],
      "execution_count": 0,
      "outputs": []
    },
    {
      "cell_type": "code",
      "metadata": {
        "id": "UFck_BssFyfR",
        "colab_type": "code",
        "colab": {
          "base_uri": "https://localhost:8080/",
          "height": 298
        },
        "outputId": "a2cb410b-a37a-41c9-f618-b2047f6d6155"
      },
      "source": [
        "run_scrapper()"
      ],
      "execution_count": 168,
      "outputs": [
        {
          "output_type": "stream",
          "text": [
            "/usr/local/lib/python3.6/dist-packages/ipykernel_launcher.py:7: DeprecationWarning: use options instead of chrome_options\n",
            "  import sys\n"
          ],
          "name": "stderr"
        },
        {
          "output_type": "stream",
          "text": [
            "Se encontrarón 1\n",
            "Iniciando scrapping...\n"
          ],
          "name": "stdout"
        },
        {
          "output_type": "execute_result",
          "data": {
            "text/plain": [
              "[{'prices': [{'PLUS': {'currency': '$', 'price': '196.480'}},\n",
              "   {'TOP': {'currency': '$', 'price': '274.700'}}],\n",
              "  'scales': [{'airplane_model': 'Airbus 319',\n",
              "    'arrival_time': '08:09',\n",
              "    'departure_time': '07:03',\n",
              "    'destination': 'CLO',\n",
              "    'flight_duration': '1:6',\n",
              "    'flight_number': 'LA4057',\n",
              "    'origin': 'BOG'}],\n",
              "  'times': {'arrival_time': '08:09',\n",
              "   'departure_time': '07:03',\n",
              "   'duration': 'PT1H6M'}}]"
            ]
          },
          "metadata": {
            "tags": []
          },
          "execution_count": 168
        }
      ]
    }
  ]
}