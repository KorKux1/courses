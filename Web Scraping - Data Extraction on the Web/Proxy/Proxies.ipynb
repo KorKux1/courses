{
  "nbformat": 4,
  "nbformat_minor": 0,
  "metadata": {
    "colab": {
      "name": "Proxies.ipynb",
      "provenance": []
    },
    "kernelspec": {
      "name": "python3",
      "display_name": "Python 3"
    }
  },
  "cells": [
    {
      "cell_type": "markdown",
      "metadata": {
        "id": "BlkuXP7rX_Hz",
        "colab_type": "text"
      },
      "source": [
        "\n",
        "# Proxies\n",
        "## Escondiendo la IP\n",
        "Muchos servidores web, al recibir múltiples peticiones en un corto tiempo de una misma IP, la bloquean para evitar saturaciones y problemas de servicio. Esto puede ser un problema para los scrapers ya que generan justamente este comportamiento.\n",
        "Para evitar ser detectados tendríamos que cambiar nuestra dirección IP pública antes de cada request, cosa que sería extremadamente lento y en muchos casos imposible, o podemos utilizar un proxy. Un proxy es un intermediario entre quien hace la petición (nuestro programa) y quien la recibe (el servidor) que nos permite enmascarar la IP de donde salió la request. Utilizando un proxy, el servidor web verá la IP de ese proxy y no la nuestra. Si bien no podemos elegir con qué dirección IP hacer la petición, sí podemos elegir a través de qué proxy hacerla.\n",
        "El sitio www.cualesmiip.com te permite ver cuál es la IP saliente de tu red. Si estás en una LAN, seguramente tu IP local sea algo como 192.18.x.x, pero la IP con la que salís al mundo, la IP de tu router asignada por tu ISP, será diferente.\n",
        "Links útiles:\n",
        "\n",
        "* https://free-proxy-list.net/\n",
        "* PySocks"
      ]
    },
    {
      "cell_type": "code",
      "metadata": {
        "id": "468e5ZxiYQfR",
        "colab_type": "code",
        "colab": {}
      },
      "source": [
        "import requests\n",
        "import re"
      ],
      "execution_count": 0,
      "outputs": []
    },
    {
      "cell_type": "code",
      "metadata": {
        "id": "fWojPm0lX2-u",
        "colab_type": "code",
        "colab": {}
      },
      "source": [
        "def get_my_ip(url='http://www.cualesmiip.com/', proxies=None):\n",
        "    try:\n",
        "        r = requests.get(url=url, proxies=proxies)\n",
        "    except Exception as e:\n",
        "        print('Error haciendo la request', e)\n",
        "        return None\n",
        "    \n",
        "    if r.status_code != 200:\n",
        "        print(\"Status Code:\", r.status_code)\n",
        "        return None\n",
        "    \n",
        "    regex = re.compile(r'(\\d{1,3}\\.\\d{1,3}\\.\\d{1,3}\\.\\d{1,3})')\n",
        "    my_ip = regex.findall(r.text)\n",
        "    return my_ip[0] if my_ip else None"
      ],
      "execution_count": 0,
      "outputs": []
    },
    {
      "cell_type": "code",
      "metadata": {
        "id": "WOC3Kl3PYLfB",
        "colab_type": "code",
        "colab": {
          "base_uri": "https://localhost:8080/",
          "height": 35
        },
        "outputId": "8aacdff7-bdf5-42f9-b720-beb231789ff5"
      },
      "source": [
        "get_my_ip()"
      ],
      "execution_count": 14,
      "outputs": [
        {
          "output_type": "execute_result",
          "data": {
            "text/plain": [
              "'34.83.20.102'"
            ]
          },
          "metadata": {
            "tags": []
          },
          "execution_count": 14
        }
      ]
    },
    {
      "cell_type": "code",
      "metadata": {
        "id": "OtjkWHVTYXX4",
        "colab_type": "code",
        "colab": {}
      },
      "source": [
        "proxy_dict = {'http':'http://45.236.88.42:8880',\n",
        "             'https':'https://45.236.88.42:8880'}"
      ],
      "execution_count": 0,
      "outputs": []
    },
    {
      "cell_type": "code",
      "metadata": {
        "id": "917gvKCbZp3Z",
        "colab_type": "code",
        "colab": {
          "base_uri": "https://localhost:8080/",
          "height": 35
        },
        "outputId": "043dabae-16a2-4859-8e1e-354d639cbb9d"
      },
      "source": [
        "get_my_ip(proxies=proxy_dict)"
      ],
      "execution_count": 21,
      "outputs": [
        {
          "output_type": "execute_result",
          "data": {
            "text/plain": [
              "'45.236.88.42'"
            ]
          },
          "metadata": {
            "tags": []
          },
          "execution_count": 21
        }
      ]
    },
    {
      "cell_type": "code",
      "metadata": {
        "id": "XS9t1mXdaGh7",
        "colab_type": "code",
        "colab": {}
      },
      "source": [
        "socks_proxy_dict = {'http':'socks4://157.230.154.241:9050',\n",
        "                   'https':'socks4://157.230.154.241:9050'}"
      ],
      "execution_count": 0,
      "outputs": []
    },
    {
      "cell_type": "code",
      "metadata": {
        "id": "9a9M49fDdWIk",
        "colab_type": "code",
        "colab": {}
      },
      "source": [
        "get_my_ip(proxies=socks_proxy_dict)"
      ],
      "execution_count": 0,
      "outputs": []
    }
  ]
}